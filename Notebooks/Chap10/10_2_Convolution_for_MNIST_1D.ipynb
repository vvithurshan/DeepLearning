{
  "nbformat": 4,
  "nbformat_minor": 0,
  "metadata": {
    "colab": {
      "provenance": [],
      "include_colab_link": true
    },
    "kernelspec": {
      "name": "python3",
      "display_name": "Python 3"
    },
    "language_info": {
      "name": "python"
    }
  },
  "cells": [
    {
      "cell_type": "markdown",
      "metadata": {
        "id": "view-in-github",
        "colab_type": "text"
      },
      "source": [
        "<a href=\"https://colab.research.google.com/github/vvithurshan/DeepLearning/blob/main/Notebooks/Chap10/10_2_Convolution_for_MNIST_1D.ipynb\" target=\"_parent\"><img src=\"https://colab.research.google.com/assets/colab-badge.svg\" alt=\"Open In Colab\"/></a>"
      ]
    },
    {
      "cell_type": "markdown",
      "source": [
        "# **Notebook 10.2: Convolution for MNIST-1D**\n",
        "\n",
        "This notebook investigates a 1D convolutional network for MNIST-1D as in figure 10.7 and 10.8a.\n",
        "\n",
        "Work through the cells below, running each cell in turn. In various places you will see the words \"TODO\". Follow the instructions at these places and make predictions about what is going to happen or write code to complete the functions.\n",
        "\n",
        "Contact me at udlbookmail@gmail.com if you find any mistakes or have any suggestions.\n",
        "\n"
      ],
      "metadata": {
        "id": "t9vk9Elugvmi"
      }
    },
    {
      "cell_type": "code",
      "source": [
        "# Run this if you're in a Colab to install MNIST 1D repository\n",
        "!pip install git+https://github.com/greydanus/mnist1d"
      ],
      "metadata": {
        "id": "D5yLObtZCi9J",
        "outputId": "8b4dfc94-008a-4b3d-bf37-254b5fb018a8",
        "colab": {
          "base_uri": "https://localhost:8080/"
        }
      },
      "execution_count": 1,
      "outputs": [
        {
          "output_type": "stream",
          "name": "stdout",
          "text": [
            "Collecting git+https://github.com/greydanus/mnist1d\n",
            "  Cloning https://github.com/greydanus/mnist1d to /tmp/pip-req-build-8980ulnq\n",
            "  Running command git clone --filter=blob:none --quiet https://github.com/greydanus/mnist1d /tmp/pip-req-build-8980ulnq\n",
            "  Resolved https://github.com/greydanus/mnist1d to commit 7878d96082abd200c546a07a4101fa90b30fdf7e\n",
            "  Installing build dependencies ... \u001b[?25l\u001b[?25hdone\n",
            "  Getting requirements to build wheel ... \u001b[?25l\u001b[?25hdone\n",
            "  Preparing metadata (pyproject.toml) ... \u001b[?25l\u001b[?25hdone\n",
            "Requirement already satisfied: requests in /usr/local/lib/python3.11/dist-packages (from mnist1d==0.0.2.post16) (2.32.3)\n",
            "Requirement already satisfied: numpy in /usr/local/lib/python3.11/dist-packages (from mnist1d==0.0.2.post16) (2.0.2)\n",
            "Requirement already satisfied: matplotlib in /usr/local/lib/python3.11/dist-packages (from mnist1d==0.0.2.post16) (3.10.0)\n",
            "Requirement already satisfied: scipy in /usr/local/lib/python3.11/dist-packages (from mnist1d==0.0.2.post16) (1.15.2)\n",
            "Requirement already satisfied: contourpy>=1.0.1 in /usr/local/lib/python3.11/dist-packages (from matplotlib->mnist1d==0.0.2.post16) (1.3.2)\n",
            "Requirement already satisfied: cycler>=0.10 in /usr/local/lib/python3.11/dist-packages (from matplotlib->mnist1d==0.0.2.post16) (0.12.1)\n",
            "Requirement already satisfied: fonttools>=4.22.0 in /usr/local/lib/python3.11/dist-packages (from matplotlib->mnist1d==0.0.2.post16) (4.57.0)\n",
            "Requirement already satisfied: kiwisolver>=1.3.1 in /usr/local/lib/python3.11/dist-packages (from matplotlib->mnist1d==0.0.2.post16) (1.4.8)\n",
            "Requirement already satisfied: packaging>=20.0 in /usr/local/lib/python3.11/dist-packages (from matplotlib->mnist1d==0.0.2.post16) (24.2)\n",
            "Requirement already satisfied: pillow>=8 in /usr/local/lib/python3.11/dist-packages (from matplotlib->mnist1d==0.0.2.post16) (11.2.1)\n",
            "Requirement already satisfied: pyparsing>=2.3.1 in /usr/local/lib/python3.11/dist-packages (from matplotlib->mnist1d==0.0.2.post16) (3.2.3)\n",
            "Requirement already satisfied: python-dateutil>=2.7 in /usr/local/lib/python3.11/dist-packages (from matplotlib->mnist1d==0.0.2.post16) (2.9.0.post0)\n",
            "Requirement already satisfied: charset-normalizer<4,>=2 in /usr/local/lib/python3.11/dist-packages (from requests->mnist1d==0.0.2.post16) (3.4.1)\n",
            "Requirement already satisfied: idna<4,>=2.5 in /usr/local/lib/python3.11/dist-packages (from requests->mnist1d==0.0.2.post16) (3.10)\n",
            "Requirement already satisfied: urllib3<3,>=1.21.1 in /usr/local/lib/python3.11/dist-packages (from requests->mnist1d==0.0.2.post16) (2.4.0)\n",
            "Requirement already satisfied: certifi>=2017.4.17 in /usr/local/lib/python3.11/dist-packages (from requests->mnist1d==0.0.2.post16) (2025.4.26)\n",
            "Requirement already satisfied: six>=1.5 in /usr/local/lib/python3.11/dist-packages (from python-dateutil>=2.7->matplotlib->mnist1d==0.0.2.post16) (1.17.0)\n",
            "Building wheels for collected packages: mnist1d\n",
            "  Building wheel for mnist1d (pyproject.toml) ... \u001b[?25l\u001b[?25hdone\n",
            "  Created wheel for mnist1d: filename=mnist1d-0.0.2.post16-py3-none-any.whl size=14663 sha256=0013bb5052343c5425d9a0ce6d2739e957f050de3a32c9234ac02f49d4768884\n",
            "  Stored in directory: /tmp/pip-ephem-wheel-cache-o2v82zwg/wheels/d6/38/42/3d2112bc7d915f6195254ac85eb761d922d1b18f52817aa8e2\n",
            "Successfully built mnist1d\n",
            "Installing collected packages: mnist1d\n",
            "Successfully installed mnist1d-0.0.2.post16\n"
          ]
        }
      ]
    },
    {
      "cell_type": "code",
      "source": [
        "import numpy as np\n",
        "import os\n",
        "import torch, torch.nn as nn\n",
        "from torch.utils.data import TensorDataset, DataLoader\n",
        "from torch.optim.lr_scheduler import StepLR\n",
        "import matplotlib.pyplot as plt\n",
        "import mnist1d\n",
        "import random"
      ],
      "metadata": {
        "id": "YrXWAH7sUWvU"
      },
      "execution_count": 2,
      "outputs": []
    },
    {
      "cell_type": "code",
      "source": [
        "args = mnist1d.data.get_dataset_args()\n",
        "data = mnist1d.data.get_dataset(args, path='./mnist1d_data.pkl', download=False, regenerate=False)\n",
        "\n",
        "# The training and test input and outputs are in\n",
        "# data['x'], data['y'], data['x_test'], and data['y_test']\n",
        "print(\"Examples in training set: {}\".format(len(data['y'])))\n",
        "print(\"Examples in test set: {}\".format(len(data['y_test'])))\n",
        "print(\"Length of each example: {}\".format(data['x'].shape[-1]))"
      ],
      "metadata": {
        "id": "twI72ZCrCt5z",
        "outputId": "98f6f124-8122-49ad-f065-61341a1f5a25",
        "colab": {
          "base_uri": "https://localhost:8080/"
        }
      },
      "execution_count": 3,
      "outputs": [
        {
          "output_type": "stream",
          "name": "stdout",
          "text": [
            "Did or could not load data from ./mnist1d_data.pkl. Rebuilding dataset...\n",
            "Examples in training set: 4000\n",
            "Examples in test set: 1000\n",
            "Length of each example: 40\n"
          ]
        }
      ]
    },
    {
      "cell_type": "code",
      "source": [
        "# Load in the data\n",
        "train_data_x = data['x'].transpose()\n",
        "train_data_y = data['y']\n",
        "val_data_x = data['x_test'].transpose()\n",
        "val_data_y = data['y_test']\n",
        "# Print out sizes\n",
        "print(\"Train data: %d examples (columns), each of which has %d dimensions (rows)\"%((train_data_x.shape[1],train_data_x.shape[0])))\n",
        "print(\"Validation data: %d examples (columns), each of which has %d dimensions (rows)\"%((val_data_x.shape[1],val_data_x.shape[0])))"
      ],
      "metadata": {
        "id": "8bKADvLHbiV5",
        "outputId": "d1619401-e2a0-443a-d339-575b099b66a6",
        "colab": {
          "base_uri": "https://localhost:8080/"
        }
      },
      "execution_count": 4,
      "outputs": [
        {
          "output_type": "stream",
          "name": "stdout",
          "text": [
            "Train data: 4000 examples (columns), each of which has 40 dimensions (rows)\n",
            "Validation data: 1000 examples (columns), each of which has 40 dimensions (rows)\n"
          ]
        }
      ]
    },
    {
      "cell_type": "markdown",
      "source": [
        "Define the network"
      ],
      "metadata": {
        "id": "_sFvRDGrl4qe"
      }
    },
    {
      "cell_type": "code",
      "source": [
        "# There are 40 input dimensions and 10 output dimensions for this data\n",
        "# The inputs correspond to the 40 offsets in the MNIST1D template.\n",
        "D_i = 40\n",
        "# The outputs correspond to the 10 digits\n",
        "D_o = 10\n",
        "\n",
        "\n",
        "# TODO Create a model with the following layers\n",
        "# 1. Convolutional layer, (input=length 40 and 1 channel, kernel size 3, stride 2, padding=\"valid\", 15 output channels )\n",
        "# 2. ReLU\n",
        "# 3. Convolutional layer, (input=length 19 and 15 channels, kernel size 3, stride 2, padding=\"valid\", 15 output channels )\n",
        "# 4. ReLU\n",
        "# 5. Convolutional layer, (input=length 9 and 15 channels, kernel size 3, stride 2, padding=\"valid\", 15 output channels)\n",
        "# 6. ReLU\n",
        "# 7. Flatten (converts 4x15) to length 60\n",
        "# 8. Linear layer (input size = 60, output size = 10)\n",
        "# References:\n",
        "# https://pytorch.org/docs/1.13/generated/torch.nn.Conv1d.html?highlight=conv1d#torch.nn.Conv1d\n",
        "# https://pytorch.org/docs/stable/generated/torch.nn.Flatten.html\n",
        "# https://pytorch.org/docs/1.13/generated/torch.nn.Linear.html?highlight=linear#torch.nn.Linear\n",
        "\n",
        "# NOTE THAT THE CONVOLUTIONAL LAYERS NEED TO TAKE THE NUMBER OF INPUT CHANNELS AS A PARAMETER\n",
        "# AND NOT THE INPUT SIZE.\n",
        "\n",
        "# Replace the following function:\n",
        "model = nn.Sequential(\n",
        "    nn.Conv1d(in_channels=1, out_channels=15, kernel_size=3, stride = 2, padding=\"valid\"),\n",
        "    nn.ReLU(),\n",
        "    nn.Conv1d(in_channels=15, out_channels=15, kernel_size=3, stride = 2, padding=\"valid\"),\n",
        "    nn.ReLU(),\n",
        "    nn.Conv1d(in_channels=15, out_channels=15, kernel_size=3, stride = 2, padding=\"valid\"),\n",
        "    nn.ReLU(),\n",
        "    nn.Flatten(),\n",
        "    nn.Linear(60, 10)\n",
        "    )\n"
      ],
      "metadata": {
        "id": "FslroPJJffrh"
      },
      "execution_count": 6,
      "outputs": []
    },
    {
      "cell_type": "code",
      "source": [
        "# He initialization of weights\n",
        "def weights_init(layer_in):\n",
        "  if isinstance(layer_in, nn.Linear):\n",
        "    nn.init.kaiming_uniform_(layer_in.weight)\n",
        "    layer_in.bias.data.fill_(0.0)"
      ],
      "metadata": {
        "id": "YgLaex1pfhqz"
      },
      "execution_count": 7,
      "outputs": []
    },
    {
      "cell_type": "code",
      "source": [
        "# choose cross entropy loss function (equation 5.24 in the loss notes)\n",
        "loss_function = nn.CrossEntropyLoss()\n",
        "# construct SGD optimizer and initialize learning rate and momentum\n",
        "optimizer = torch.optim.SGD(model.parameters(), lr = 0.05, momentum=0.9)\n",
        "# object that decreases learning rate by half every 20 epochs\n",
        "scheduler = StepLR(optimizer, step_size=20, gamma=0.5)\n",
        "# create 100 dummy data points and store in data loader class\n",
        "x_train = torch.tensor(train_data_x.transpose().astype('float32'))\n",
        "y_train = torch.tensor(train_data_y.astype('long')).long()\n",
        "x_val= torch.tensor(val_data_x.transpose().astype('float32'))\n",
        "y_val = torch.tensor(val_data_y.astype('long')).long()\n",
        "\n",
        "# load the data into a class that creates the batches\n",
        "data_loader = DataLoader(TensorDataset(x_train,y_train), batch_size=100, shuffle=True, worker_init_fn=np.random.seed(1))\n",
        "\n",
        "# Initialize model weights\n",
        "model.apply(weights_init)\n",
        "\n",
        "# loop over the dataset n_epoch times\n",
        "n_epoch = 100\n",
        "# store the loss and the % correct at each epoch\n",
        "losses_train = np.zeros((n_epoch))\n",
        "errors_train = np.zeros((n_epoch))\n",
        "losses_val = np.zeros((n_epoch))\n",
        "errors_val = np.zeros((n_epoch))\n",
        "\n",
        "for epoch in range(n_epoch):\n",
        "  # loop over batches\n",
        "  for i, data in enumerate(data_loader):\n",
        "    # retrieve inputs and labels for this batch\n",
        "    x_batch, y_batch = data\n",
        "    # zero the parameter gradients\n",
        "    optimizer.zero_grad()\n",
        "    # forward pass -- calculate model output\n",
        "    pred = model(x_batch[:,None,:])\n",
        "    # compute the loss\n",
        "    loss = loss_function(pred, y_batch)\n",
        "    # backward pass\n",
        "    loss.backward()\n",
        "    # SGD update\n",
        "    optimizer.step()\n",
        "\n",
        "  # Run whole dataset to get statistics -- normally wouldn't do this\n",
        "  pred_train = model(x_train[:,None,:])\n",
        "  pred_val = model(x_val[:,None,:])\n",
        "  _, predicted_train_class = torch.max(pred_train.data, 1)\n",
        "  _, predicted_val_class = torch.max(pred_val.data, 1)\n",
        "  errors_train[epoch] = 100 - 100 * (predicted_train_class == y_train).float().sum() / len(y_train)\n",
        "  errors_val[epoch]= 100 - 100 * (predicted_val_class == y_val).float().sum() / len(y_val)\n",
        "  losses_train[epoch] = loss_function(pred_train, y_train).item()\n",
        "  losses_val[epoch]= loss_function(pred_val, y_val).item()\n",
        "  print(f'Epoch {epoch:5d}, train loss {losses_train[epoch]:.6f}, train error {errors_train[epoch]:3.2f},  val loss {losses_val[epoch]:.6f}, percent error {errors_val[epoch]:3.2f}')\n",
        "\n",
        "  # tell scheduler to consider updating learning rate\n",
        "  scheduler.step()\n",
        "\n",
        "# Plot the results\n",
        "fig, ax = plt.subplots()\n",
        "ax.plot(errors_train,'r-',label='train')\n",
        "ax.plot(errors_val,'b-',label='validation')\n",
        "ax.set_ylim(0,100); ax.set_xlim(0,n_epoch)\n",
        "ax.set_xlabel('Epoch'); ax.set_ylabel('Error')\n",
        "ax.set_title('Part I: Validation Result %3.2f'%(errors_val[-1]))\n",
        "ax.legend()\n",
        "plt.show()"
      ],
      "metadata": {
        "id": "NYw8I_3mmX5c",
        "outputId": "8e93f59e-7c95-484a-d240-8b3a38b08de7",
        "colab": {
          "base_uri": "https://localhost:8080/",
          "height": 1000
        }
      },
      "execution_count": 8,
      "outputs": [
        {
          "output_type": "stream",
          "name": "stdout",
          "text": [
            "Epoch     0, train loss 2.001998, train error 77.78,  val loss 2.024376, percent error 77.70\n",
            "Epoch     1, train loss 1.499950, train error 59.38,  val loss 1.525583, percent error 62.40\n",
            "Epoch     2, train loss 1.410857, train error 57.25,  val loss 1.437940, percent error 57.40\n",
            "Epoch     3, train loss 1.276680, train error 52.70,  val loss 1.305954, percent error 56.00\n",
            "Epoch     4, train loss 1.228765, train error 49.70,  val loss 1.250537, percent error 51.90\n",
            "Epoch     5, train loss 1.166385, train error 47.12,  val loss 1.212518, percent error 51.40\n",
            "Epoch     6, train loss 1.041446, train error 42.53,  val loss 1.069785, percent error 45.50\n",
            "Epoch     7, train loss 0.888046, train error 33.95,  val loss 0.934370, percent error 37.60\n",
            "Epoch     8, train loss 0.812899, train error 31.60,  val loss 0.877782, percent error 35.00\n",
            "Epoch     9, train loss 0.696062, train error 27.55,  val loss 0.773439, percent error 30.40\n",
            "Epoch    10, train loss 0.638016, train error 24.70,  val loss 0.738020, percent error 29.60\n",
            "Epoch    11, train loss 0.695143, train error 27.05,  val loss 0.788283, percent error 29.60\n",
            "Epoch    12, train loss 0.539331, train error 20.78,  val loss 0.645103, percent error 24.70\n",
            "Epoch    13, train loss 0.523337, train error 19.60,  val loss 0.623670, percent error 23.80\n",
            "Epoch    14, train loss 0.461788, train error 16.40,  val loss 0.572915, percent error 21.30\n",
            "Epoch    15, train loss 0.464215, train error 16.45,  val loss 0.588926, percent error 21.80\n",
            "Epoch    16, train loss 0.374032, train error 13.57,  val loss 0.512189, percent error 16.90\n",
            "Epoch    17, train loss 0.339887, train error 12.18,  val loss 0.495964, percent error 17.40\n",
            "Epoch    18, train loss 0.317866, train error 11.57,  val loss 0.494685, percent error 18.40\n",
            "Epoch    19, train loss 0.266642, train error 9.62,  val loss 0.406797, percent error 12.90\n",
            "Epoch    20, train loss 0.180600, train error 5.95,  val loss 0.333517, percent error 10.50\n",
            "Epoch    21, train loss 0.192604, train error 6.70,  val loss 0.389373, percent error 12.50\n",
            "Epoch    22, train loss 0.181783, train error 6.12,  val loss 0.354932, percent error 10.90\n",
            "Epoch    23, train loss 0.166670, train error 6.05,  val loss 0.358048, percent error 11.20\n",
            "Epoch    24, train loss 0.144644, train error 4.62,  val loss 0.344745, percent error 10.60\n",
            "Epoch    25, train loss 0.150496, train error 4.88,  val loss 0.363687, percent error 11.90\n",
            "Epoch    26, train loss 0.157947, train error 5.40,  val loss 0.366680, percent error 12.10\n",
            "Epoch    27, train loss 0.143787, train error 5.20,  val loss 0.376999, percent error 12.20\n",
            "Epoch    28, train loss 0.128740, train error 4.03,  val loss 0.346452, percent error 11.30\n",
            "Epoch    29, train loss 0.117497, train error 3.70,  val loss 0.351616, percent error 11.20\n",
            "Epoch    30, train loss 0.136252, train error 4.80,  val loss 0.425446, percent error 12.20\n",
            "Epoch    31, train loss 0.107063, train error 3.50,  val loss 0.353145, percent error 11.00\n",
            "Epoch    32, train loss 0.121590, train error 4.32,  val loss 0.367147, percent error 11.50\n",
            "Epoch    33, train loss 0.102415, train error 3.30,  val loss 0.359111, percent error 11.20\n",
            "Epoch    34, train loss 0.113898, train error 3.72,  val loss 0.393571, percent error 11.50\n",
            "Epoch    35, train loss 0.094515, train error 2.97,  val loss 0.373696, percent error 10.60\n",
            "Epoch    36, train loss 0.098601, train error 3.45,  val loss 0.392680, percent error 11.10\n",
            "Epoch    37, train loss 0.117499, train error 4.05,  val loss 0.395672, percent error 11.50\n",
            "Epoch    38, train loss 0.080085, train error 2.38,  val loss 0.379470, percent error 10.90\n",
            "Epoch    39, train loss 0.097887, train error 3.55,  val loss 0.399517, percent error 12.10\n",
            "Epoch    40, train loss 0.068899, train error 1.95,  val loss 0.382169, percent error 10.40\n",
            "Epoch    41, train loss 0.070101, train error 1.85,  val loss 0.380774, percent error 10.80\n",
            "Epoch    42, train loss 0.063567, train error 1.90,  val loss 0.380643, percent error 10.50\n",
            "Epoch    43, train loss 0.064847, train error 1.80,  val loss 0.391847, percent error 10.90\n",
            "Epoch    44, train loss 0.066164, train error 1.95,  val loss 0.401246, percent error 11.10\n",
            "Epoch    45, train loss 0.064010, train error 1.93,  val loss 0.387259, percent error 10.20\n",
            "Epoch    46, train loss 0.057955, train error 1.47,  val loss 0.388959, percent error 10.70\n",
            "Epoch    47, train loss 0.056243, train error 1.45,  val loss 0.380803, percent error 10.40\n",
            "Epoch    48, train loss 0.058447, train error 1.80,  val loss 0.401197, percent error 10.70\n",
            "Epoch    49, train loss 0.055495, train error 1.25,  val loss 0.398559, percent error 10.70\n",
            "Epoch    50, train loss 0.052149, train error 1.28,  val loss 0.386147, percent error 10.40\n",
            "Epoch    51, train loss 0.052913, train error 1.45,  val loss 0.394738, percent error 10.90\n",
            "Epoch    52, train loss 0.051255, train error 1.45,  val loss 0.407554, percent error 11.30\n",
            "Epoch    53, train loss 0.050170, train error 1.30,  val loss 0.406258, percent error 10.30\n",
            "Epoch    54, train loss 0.047475, train error 1.18,  val loss 0.391311, percent error 10.30\n",
            "Epoch    55, train loss 0.052980, train error 1.40,  val loss 0.427460, percent error 10.40\n",
            "Epoch    56, train loss 0.050211, train error 1.43,  val loss 0.409506, percent error 11.00\n",
            "Epoch    57, train loss 0.045800, train error 1.07,  val loss 0.417007, percent error 10.70\n",
            "Epoch    58, train loss 0.044034, train error 1.07,  val loss 0.417944, percent error 10.80\n",
            "Epoch    59, train loss 0.044936, train error 0.97,  val loss 0.420558, percent error 10.20\n",
            "Epoch    60, train loss 0.040456, train error 0.82,  val loss 0.425077, percent error 10.50\n",
            "Epoch    61, train loss 0.041923, train error 1.07,  val loss 0.414079, percent error 10.50\n",
            "Epoch    62, train loss 0.038784, train error 0.72,  val loss 0.419628, percent error 10.20\n",
            "Epoch    63, train loss 0.039722, train error 0.93,  val loss 0.424702, percent error 10.70\n",
            "Epoch    64, train loss 0.038049, train error 0.82,  val loss 0.426458, percent error 10.60\n",
            "Epoch    65, train loss 0.039041, train error 0.78,  val loss 0.428660, percent error 10.60\n",
            "Epoch    66, train loss 0.038428, train error 0.72,  val loss 0.430893, percent error 10.70\n",
            "Epoch    67, train loss 0.037037, train error 0.78,  val loss 0.423175, percent error 10.70\n",
            "Epoch    68, train loss 0.036905, train error 0.70,  val loss 0.436963, percent error 10.40\n",
            "Epoch    69, train loss 0.036097, train error 0.68,  val loss 0.436131, percent error 10.20\n",
            "Epoch    70, train loss 0.035735, train error 0.78,  val loss 0.438297, percent error 10.60\n",
            "Epoch    71, train loss 0.036206, train error 0.82,  val loss 0.429431, percent error 10.00\n",
            "Epoch    72, train loss 0.035788, train error 0.72,  val loss 0.440322, percent error 10.40\n",
            "Epoch    73, train loss 0.040277, train error 1.22,  val loss 0.441775, percent error 10.80\n",
            "Epoch    74, train loss 0.033835, train error 0.75,  val loss 0.437054, percent error 10.50\n",
            "Epoch    75, train loss 0.033238, train error 0.65,  val loss 0.443248, percent error 10.50\n",
            "Epoch    76, train loss 0.033424, train error 0.68,  val loss 0.444102, percent error 10.50\n",
            "Epoch    77, train loss 0.032358, train error 0.68,  val loss 0.445852, percent error 10.40\n",
            "Epoch    78, train loss 0.032122, train error 0.62,  val loss 0.445574, percent error 10.40\n",
            "Epoch    79, train loss 0.031743, train error 0.62,  val loss 0.448335, percent error 10.30\n",
            "Epoch    80, train loss 0.031028, train error 0.57,  val loss 0.446304, percent error 10.40\n",
            "Epoch    81, train loss 0.030601, train error 0.55,  val loss 0.447129, percent error 10.60\n",
            "Epoch    82, train loss 0.030600, train error 0.55,  val loss 0.452147, percent error 10.30\n",
            "Epoch    83, train loss 0.030256, train error 0.55,  val loss 0.450118, percent error 10.30\n",
            "Epoch    84, train loss 0.030469, train error 0.62,  val loss 0.451358, percent error 10.30\n",
            "Epoch    85, train loss 0.029968, train error 0.47,  val loss 0.452338, percent error 10.30\n",
            "Epoch    86, train loss 0.029824, train error 0.55,  val loss 0.454708, percent error 10.30\n",
            "Epoch    87, train loss 0.031187, train error 0.60,  val loss 0.459325, percent error 10.40\n",
            "Epoch    88, train loss 0.029631, train error 0.50,  val loss 0.453005, percent error 10.30\n",
            "Epoch    89, train loss 0.029237, train error 0.47,  val loss 0.455482, percent error 10.30\n",
            "Epoch    90, train loss 0.029192, train error 0.50,  val loss 0.455472, percent error 10.30\n",
            "Epoch    91, train loss 0.029085, train error 0.53,  val loss 0.455272, percent error 10.10\n",
            "Epoch    92, train loss 0.028777, train error 0.47,  val loss 0.459475, percent error 10.20\n",
            "Epoch    93, train loss 0.028784, train error 0.50,  val loss 0.460797, percent error 10.30\n",
            "Epoch    94, train loss 0.028346, train error 0.45,  val loss 0.456701, percent error 10.40\n",
            "Epoch    95, train loss 0.028474, train error 0.47,  val loss 0.459127, percent error 10.40\n",
            "Epoch    96, train loss 0.028259, train error 0.50,  val loss 0.459010, percent error 10.40\n",
            "Epoch    97, train loss 0.027890, train error 0.47,  val loss 0.463178, percent error 10.30\n",
            "Epoch    98, train loss 0.028197, train error 0.53,  val loss 0.465447, percent error 10.40\n",
            "Epoch    99, train loss 0.027875, train error 0.47,  val loss 0.463654, percent error 10.30\n"
          ]
        },
        {
          "output_type": "display_data",
          "data": {
            "text/plain": [
              "<Figure size 640x480 with 1 Axes>"
            ],
            "image/png": "[encoded data removed]"
          },
          "metadata": {}
        }
      ]
    }
  ]
}