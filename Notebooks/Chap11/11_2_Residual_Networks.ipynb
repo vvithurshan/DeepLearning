{
  "nbformat": 4,
  "nbformat_minor": 0,
  "metadata": {
    "colab": {
      "provenance": [],
      "include_colab_link": true
    },
    "kernelspec": {
      "name": "python3",
      "display_name": "Python 3"
    },
    "language_info": {
      "name": "python"
    }
  },
  "cells": [
    {
      "cell_type": "markdown",
      "metadata": {
        "id": "view-in-github",
        "colab_type": "text"
      },
      "source": [
        "<a href=\"https://colab.research.google.com/github/vvithurshan/DeepLearning/blob/main/Notebooks/Chap11/11_2_Residual_Networks.ipynb\" target=\"_parent\"><img src=\"https://colab.research.google.com/assets/colab-badge.svg\" alt=\"Open In Colab\"/></a>"
      ]
    },
    {
      "cell_type": "markdown",
      "source": [
        "# **Notebook 11.2: Residual Networks**\n",
        "\n",
        "This notebook adapts the networks for MNIST1D to use residual connections.\n",
        "\n",
        "Work through the cells below, running each cell in turn. In various places you will see the words \"TODO\". Follow the instructions at these places and make predictions about what is going to happen or write code to complete the functions.\n",
        "\n",
        "Contact me at udlbookmail@gmail.com if you find any mistakes or have any suggestions.\n",
        "\n"
      ],
      "metadata": {
        "id": "t9vk9Elugvmi"
      }
    },
    {
      "cell_type": "code",
      "source": [
        "# Run this if you're in a Colab to install MNIST 1D repository\n",
        "!pip install git+https://github.com/greydanus/mnist1d"
      ],
      "metadata": {
        "id": "D5yLObtZCi9J",
        "outputId": "f8d51533-b8d1-4a58-ff9d-a75e536fbdf7",
        "colab": {
          "base_uri": "https://localhost:8080/"
        }
      },
      "execution_count": 1,
      "outputs": [
        {
          "output_type": "stream",
          "name": "stdout",
          "text": [
            "Collecting git+https://github.com/greydanus/mnist1d\n",
            "  Cloning https://github.com/greydanus/mnist1d to /tmp/pip-req-build-wm3eenr3\n",
            "  Running command git clone --filter=blob:none --quiet https://github.com/greydanus/mnist1d /tmp/pip-req-build-wm3eenr3\n",
            "  Resolved https://github.com/greydanus/mnist1d to commit 7878d96082abd200c546a07a4101fa90b30fdf7e\n",
            "  Installing build dependencies ... \u001b[?25l\u001b[?25hdone\n",
            "  Getting requirements to build wheel ... \u001b[?25l\u001b[?25hdone\n",
            "  Preparing metadata (pyproject.toml) ... \u001b[?25l\u001b[?25hdone\n",
            "Requirement already satisfied: requests in /usr/local/lib/python3.11/dist-packages (from mnist1d==0.0.2.post16) (2.32.3)\n",
            "Requirement already satisfied: numpy in /usr/local/lib/python3.11/dist-packages (from mnist1d==0.0.2.post16) (2.0.2)\n",
            "Requirement already satisfied: matplotlib in /usr/local/lib/python3.11/dist-packages (from mnist1d==0.0.2.post16) (3.10.0)\n",
            "Requirement already satisfied: scipy in /usr/local/lib/python3.11/dist-packages (from mnist1d==0.0.2.post16) (1.15.2)\n",
            "Requirement already satisfied: contourpy>=1.0.1 in /usr/local/lib/python3.11/dist-packages (from matplotlib->mnist1d==0.0.2.post16) (1.3.2)\n",
            "Requirement already satisfied: cycler>=0.10 in /usr/local/lib/python3.11/dist-packages (from matplotlib->mnist1d==0.0.2.post16) (0.12.1)\n",
            "Requirement already satisfied: fonttools>=4.22.0 in /usr/local/lib/python3.11/dist-packages (from matplotlib->mnist1d==0.0.2.post16) (4.57.0)\n",
            "Requirement already satisfied: kiwisolver>=1.3.1 in /usr/local/lib/python3.11/dist-packages (from matplotlib->mnist1d==0.0.2.post16) (1.4.8)\n",
            "Requirement already satisfied: packaging>=20.0 in /usr/local/lib/python3.11/dist-packages (from matplotlib->mnist1d==0.0.2.post16) (24.2)\n",
            "Requirement already satisfied: pillow>=8 in /usr/local/lib/python3.11/dist-packages (from matplotlib->mnist1d==0.0.2.post16) (11.2.1)\n",
            "Requirement already satisfied: pyparsing>=2.3.1 in /usr/local/lib/python3.11/dist-packages (from matplotlib->mnist1d==0.0.2.post16) (3.2.3)\n",
            "Requirement already satisfied: python-dateutil>=2.7 in /usr/local/lib/python3.11/dist-packages (from matplotlib->mnist1d==0.0.2.post16) (2.9.0.post0)\n",
            "Requirement already satisfied: charset-normalizer<4,>=2 in /usr/local/lib/python3.11/dist-packages (from requests->mnist1d==0.0.2.post16) (3.4.1)\n",
            "Requirement already satisfied: idna<4,>=2.5 in /usr/local/lib/python3.11/dist-packages (from requests->mnist1d==0.0.2.post16) (3.10)\n",
            "Requirement already satisfied: urllib3<3,>=1.21.1 in /usr/local/lib/python3.11/dist-packages (from requests->mnist1d==0.0.2.post16) (2.4.0)\n",
            "Requirement already satisfied: certifi>=2017.4.17 in /usr/local/lib/python3.11/dist-packages (from requests->mnist1d==0.0.2.post16) (2025.4.26)\n",
            "Requirement already satisfied: six>=1.5 in /usr/local/lib/python3.11/dist-packages (from python-dateutil>=2.7->matplotlib->mnist1d==0.0.2.post16) (1.17.0)\n",
            "Building wheels for collected packages: mnist1d\n",
            "  Building wheel for mnist1d (pyproject.toml) ... \u001b[?25l\u001b[?25hdone\n",
            "  Created wheel for mnist1d: filename=mnist1d-0.0.2.post16-py3-none-any.whl size=14664 sha256=1b4433598f7546545f0089a3da6f34c9cfe24d57c8ca3df42129caa229e48b25\n",
            "  Stored in directory: /tmp/pip-ephem-wheel-cache-yj4retae/wheels/d6/38/42/3d2112bc7d915f6195254ac85eb761d922d1b18f52817aa8e2\n",
            "Successfully built mnist1d\n",
            "Installing collected packages: mnist1d\n",
            "Successfully installed mnist1d-0.0.2.post16\n"
          ]
        }
      ]
    },
    {
      "cell_type": "code",
      "source": [
        "import numpy as np\n",
        "import os\n",
        "import torch, torch.nn as nn\n",
        "from torch.utils.data import TensorDataset, DataLoader\n",
        "from torch.optim.lr_scheduler import StepLR\n",
        "import matplotlib.pyplot as plt\n",
        "import mnist1d\n",
        "import random"
      ],
      "metadata": {
        "id": "YrXWAH7sUWvU"
      },
      "execution_count": 19,
      "outputs": []
    },
    {
      "cell_type": "code",
      "source": [
        "args = mnist1d.data.get_dataset_args()\n",
        "data = mnist1d.data.get_dataset(args, path='./mnist1d_data.pkl', download=False, regenerate=False)\n",
        "\n",
        "# The training and test input and outputs are in\n",
        "# data['x'], data['y'], data['x_test'], and data['y_test']\n",
        "print(\"Examples in training set: {}\".format(len(data['y'])))\n",
        "print(\"Examples in test set: {}\".format(len(data['y_test'])))\n",
        "print(\"Length of each example: {}\".format(data['x'].shape[-1]))"
      ],
      "metadata": {
        "id": "twI72ZCrCt5z",
        "outputId": "4a8b6a63-344a-4f26-8a3d-46546fdb9342",
        "colab": {
          "base_uri": "https://localhost:8080/"
        }
      },
      "execution_count": 20,
      "outputs": [
        {
          "output_type": "stream",
          "name": "stdout",
          "text": [
            "Successfully loaded data from ./mnist1d_data.pkl\n",
            "Examples in training set: 4000\n",
            "Examples in test set: 1000\n",
            "Length of each example: 40\n"
          ]
        }
      ]
    },
    {
      "cell_type": "code",
      "source": [
        "# Load in the data\n",
        "train_data_x = data['x'].transpose()\n",
        "train_data_y = data['y']\n",
        "val_data_x = data['x_test'].transpose()\n",
        "val_data_y = data['y_test']\n",
        "# Print out sizes\n",
        "print(\"Train data: %d examples (columns), each of which has %d dimensions (rows)\"%((train_data_x.shape[1],train_data_x.shape[0])))\n",
        "print(\"Validation data: %d examples (columns), each of which has %d dimensions (rows)\"%((val_data_x.shape[1],val_data_x.shape[0])))"
      ],
      "metadata": {
        "id": "8bKADvLHbiV5",
        "outputId": "10792433-88a2-4588-d6f3-24ee2c55bf52",
        "colab": {
          "base_uri": "https://localhost:8080/"
        }
      },
      "execution_count": 21,
      "outputs": [
        {
          "output_type": "stream",
          "name": "stdout",
          "text": [
            "Train data: 4000 examples (columns), each of which has 40 dimensions (rows)\n",
            "Validation data: 1000 examples (columns), each of which has 40 dimensions (rows)\n"
          ]
        }
      ]
    },
    {
      "cell_type": "markdown",
      "source": [
        "Define the network"
      ],
      "metadata": {
        "id": "_sFvRDGrl4qe"
      }
    },
    {
      "cell_type": "code",
      "source": [
        "# There are 40 input dimensions and 10 output dimensions for this data\n",
        "# The inputs correspond to the 40 offsets in the MNIST1D template.\n",
        "D_i = 40\n",
        "# The outputs correspond to the 10 digits\n",
        "D_o = 10\n",
        "\n",
        "\n",
        "# We will adapt this model to have residual connections around the linear layers\n",
        "# This is the same model we used in practical 8.1, but we can't use the sequential\n",
        "# class for residual networks (which aren't strictly sequential).  Hence, I've rewritten\n",
        "# it as a model that inherits from a base class\n",
        "\n",
        "class ResidualNetwork(torch.nn.Module):\n",
        "  def __init__(self, input_size, output_size, hidden_size=100):\n",
        "    super(ResidualNetwork, self).__init__()\n",
        "    self.linear1 = nn.Linear(input_size, hidden_size)\n",
        "    self.linear2 = nn.Linear(hidden_size, hidden_size)\n",
        "    self.linear3 = nn.Linear(hidden_size, hidden_size)\n",
        "    self.linear4 = nn.Linear(hidden_size, output_size)\n",
        "    print(\"Initialized MLPBase model with {} parameters\".format(self.count_params()))\n",
        "\n",
        "  def count_params(self):\n",
        "    return sum([p.view(-1).shape[0] for p in self.parameters()])\n",
        "\n",
        "# TODO -- Add residual connections to this model\n",
        "# The order of operations within each block should similar to figure 11.5b\n",
        "# ie., linear1 first, ReLU+linear2 in first residual block, ReLU+linear3 in second residual block), linear4 at end\n",
        "# Replace this function\n",
        "#   def forward(self, x):\n",
        "#     h1 = self.linear1(x).relu()\n",
        "#     h2 = self.linear2(h1).relu()\n",
        "#     h3 = self.linear3(h2).relu()\n",
        "#     return self.linear4(h3)\n",
        "\n",
        "  def forward(self, x):\n",
        "    h1 = self.linear1(x)\n",
        "    h2 = self.linear2(h1.relu()) + h1\n",
        "    h3 = self.linear3(h2.relu()) + h2\n",
        "    return self.linear4(h3)"
      ],
      "metadata": {
        "id": "FslroPJJffrh"
      },
      "execution_count": 28,
      "outputs": []
    },
    {
      "cell_type": "code",
      "source": [
        "# He initialization of weights\n",
        "def weights_init(layer_in):\n",
        "  if isinstance(layer_in, nn.Linear):\n",
        "    nn.init.kaiming_uniform_(layer_in.weight)\n",
        "    layer_in.bias.data.fill_(0.0)"
      ],
      "metadata": {
        "id": "YgLaex1pfhqz"
      },
      "execution_count": 29,
      "outputs": []
    },
    {
      "cell_type": "code",
      "source": [
        "#Define the model\n",
        "model = ResidualNetwork(40, 10)\n",
        "\n",
        "# choose cross entropy loss function (equation 5.24 in the loss notes)\n",
        "loss_function = nn.CrossEntropyLoss()\n",
        "# construct SGD optimizer and initialize learning rate and momentum\n",
        "optimizer = torch.optim.SGD(model.parameters(), lr = 0.05, momentum=0.9)\n",
        "# object that decreases learning rate by half every 20 epochs\n",
        "scheduler = StepLR(optimizer, step_size=20, gamma=0.5)\n",
        "# convert data to torch tensors\n",
        "x_train = torch.tensor(train_data_x.transpose().astype('float32'))\n",
        "y_train = torch.tensor(train_data_y.astype('long'))\n",
        "x_val= torch.tensor(val_data_x.transpose().astype('float32'))\n",
        "y_val = torch.tensor(val_data_y.astype('long'))\n",
        "\n",
        "# load the data into a class that creates the batches\n",
        "data_loader = DataLoader(TensorDataset(x_train,y_train), batch_size=100, shuffle=True, worker_init_fn=np.random.seed(1))\n",
        "\n",
        "# Initialize model weights\n",
        "model.apply(weights_init)\n",
        "\n",
        "# loop over the dataset n_epoch times\n",
        "n_epoch = 100\n",
        "# store the loss and the % correct at each epoch\n",
        "losses_train = np.zeros((n_epoch))\n",
        "errors_train = np.zeros((n_epoch))\n",
        "losses_val = np.zeros((n_epoch))\n",
        "errors_val = np.zeros((n_epoch))\n",
        "\n",
        "for epoch in range(n_epoch):\n",
        "  # loop over batches\n",
        "  for i, data in enumerate(data_loader):\n",
        "    # retrieve inputs and labels for this batch\n",
        "    x_batch, y_batch = data\n",
        "    # zero the parameter gradients\n",
        "    optimizer.zero_grad()\n",
        "    # forward pass -- calculate model output\n",
        "    pred = model(x_batch)\n",
        "    # compute the loss\n",
        "    loss = loss_function(pred, y_batch)\n",
        "    # backward pass\n",
        "    loss.backward()\n",
        "    # SGD update\n",
        "    optimizer.step()\n",
        "\n",
        "  # Run whole dataset to get statistics -- normally wouldn't do this\n",
        "  pred_train = model(x_train)\n",
        "  pred_val = model(x_val)\n",
        "  _, predicted_train_class = torch.max(pred_train.data, 1)\n",
        "  _, predicted_val_class = torch.max(pred_val.data, 1)\n",
        "  errors_train[epoch] = 100 - 100 * (predicted_train_class == y_train).float().sum() / len(y_train)\n",
        "  errors_val[epoch]= 100 - 100 * (predicted_val_class == y_val).float().sum() / len(y_val)\n",
        "  losses_train[epoch] = loss_function(pred_train, y_train).item()\n",
        "  losses_val[epoch]= loss_function(pred_val, y_val).item()\n",
        "  print(f'Epoch {epoch:5d}, train loss {losses_train[epoch]:.6f}, train error {errors_train[epoch]:3.2f},  val loss {losses_val[epoch]:.6f}, percent error {errors_val[epoch]:3.2f}')\n",
        "\n",
        "  # tell scheduler to consider updating learning rate\n",
        "  scheduler.step()"
      ],
      "metadata": {
        "id": "NYw8I_3mmX5c",
        "outputId": "ab4e5a12-a594-4941-c531-1c29ae729480",
        "colab": {
          "base_uri": "https://localhost:8080/"
        }
      },
      "execution_count": 30,
      "outputs": [
        {
          "output_type": "stream",
          "name": "stdout",
          "text": [
            "Initialized MLPBase model with 25310 parameters\n",
            "Epoch     0, train loss 1.590265, train error 58.88,  val loss 1.693576, percent error 64.70\n",
            "Epoch     1, train loss 1.126725, train error 42.90,  val loss 1.230890, percent error 49.70\n",
            "Epoch     2, train loss 0.965125, train error 36.42,  val loss 1.158421, percent error 44.50\n",
            "Epoch     3, train loss 0.883477, train error 33.93,  val loss 1.156580, percent error 44.20\n",
            "Epoch     4, train loss 0.878759, train error 33.22,  val loss 1.195229, percent error 43.40\n",
            "Epoch     5, train loss 0.746308, train error 28.22,  val loss 1.131669, percent error 41.30\n",
            "Epoch     6, train loss 0.672826, train error 25.55,  val loss 1.140909, percent error 41.10\n",
            "Epoch     7, train loss 0.645667, train error 23.85,  val loss 1.142618, percent error 39.60\n",
            "Epoch     8, train loss 0.525356, train error 18.93,  val loss 1.128813, percent error 38.20\n",
            "Epoch     9, train loss 0.538356, train error 19.43,  val loss 1.209139, percent error 40.20\n",
            "Epoch    10, train loss 0.451264, train error 17.20,  val loss 1.198898, percent error 38.60\n",
            "Epoch    11, train loss 0.452054, train error 17.47,  val loss 1.296987, percent error 40.20\n",
            "Epoch    12, train loss 0.398562, train error 14.50,  val loss 1.344868, percent error 39.70\n",
            "Epoch    13, train loss 0.326012, train error 11.72,  val loss 1.365471, percent error 36.80\n",
            "Epoch    14, train loss 0.334020, train error 12.97,  val loss 1.300767, percent error 36.30\n",
            "Epoch    15, train loss 0.370244, train error 12.90,  val loss 1.451246, percent error 37.30\n",
            "Epoch    16, train loss 0.340954, train error 12.25,  val loss 1.426844, percent error 35.90\n",
            "Epoch    17, train loss 0.301401, train error 10.93,  val loss 1.564993, percent error 37.70\n",
            "Epoch    18, train loss 0.297333, train error 10.10,  val loss 1.558939, percent error 37.10\n",
            "Epoch    19, train loss 0.314021, train error 10.60,  val loss 1.637853, percent error 35.70\n",
            "Epoch    20, train loss 0.075855, train error 1.88,  val loss 1.230987, percent error 31.90\n",
            "Epoch    21, train loss 0.034316, train error 0.43,  val loss 1.224445, percent error 30.70\n",
            "Epoch    22, train loss 0.021556, train error 0.05,  val loss 1.270224, percent error 30.60\n",
            "Epoch    23, train loss 0.014803, train error 0.00,  val loss 1.269011, percent error 30.20\n",
            "Epoch    24, train loss 0.012118, train error 0.00,  val loss 1.302319, percent error 30.50\n",
            "Epoch    25, train loss 0.010176, train error 0.00,  val loss 1.327338, percent error 30.40\n",
            "Epoch    26, train loss 0.008750, train error 0.00,  val loss 1.348045, percent error 30.10\n",
            "Epoch    27, train loss 0.007801, train error 0.00,  val loss 1.370974, percent error 31.10\n",
            "Epoch    28, train loss 0.007004, train error 0.00,  val loss 1.383931, percent error 30.40\n",
            "Epoch    29, train loss 0.006304, train error 0.00,  val loss 1.405957, percent error 30.80\n",
            "Epoch    30, train loss 0.005736, train error 0.00,  val loss 1.421582, percent error 30.50\n",
            "Epoch    31, train loss 0.005290, train error 0.00,  val loss 1.435323, percent error 31.00\n",
            "Epoch    32, train loss 0.004899, train error 0.00,  val loss 1.449509, percent error 31.00\n",
            "Epoch    33, train loss 0.004567, train error 0.00,  val loss 1.462835, percent error 30.90\n",
            "Epoch    34, train loss 0.004275, train error 0.00,  val loss 1.473474, percent error 30.90\n",
            "Epoch    35, train loss 0.004011, train error 0.00,  val loss 1.486591, percent error 30.90\n",
            "Epoch    36, train loss 0.003776, train error 0.00,  val loss 1.496708, percent error 31.10\n",
            "Epoch    37, train loss 0.003567, train error 0.00,  val loss 1.507417, percent error 30.50\n",
            "Epoch    38, train loss 0.003383, train error 0.00,  val loss 1.518761, percent error 30.80\n",
            "Epoch    39, train loss 0.003218, train error 0.00,  val loss 1.528425, percent error 30.80\n",
            "Epoch    40, train loss 0.003137, train error 0.00,  val loss 1.532935, percent error 30.70\n",
            "Epoch    41, train loss 0.003063, train error 0.00,  val loss 1.537778, percent error 30.70\n",
            "Epoch    42, train loss 0.002994, train error 0.00,  val loss 1.542253, percent error 30.80\n",
            "Epoch    43, train loss 0.002927, train error 0.00,  val loss 1.546433, percent error 30.80\n",
            "Epoch    44, train loss 0.002863, train error 0.00,  val loss 1.551615, percent error 30.90\n",
            "Epoch    45, train loss 0.002802, train error 0.00,  val loss 1.555868, percent error 30.90\n",
            "Epoch    46, train loss 0.002743, train error 0.00,  val loss 1.559065, percent error 30.80\n",
            "Epoch    47, train loss 0.002688, train error 0.00,  val loss 1.564174, percent error 30.70\n",
            "Epoch    48, train loss 0.002634, train error 0.00,  val loss 1.568612, percent error 30.60\n",
            "Epoch    49, train loss 0.002582, train error 0.00,  val loss 1.571613, percent error 30.70\n",
            "Epoch    50, train loss 0.002531, train error 0.00,  val loss 1.575768, percent error 30.50\n",
            "Epoch    51, train loss 0.002482, train error 0.00,  val loss 1.580432, percent error 30.40\n",
            "Epoch    52, train loss 0.002437, train error 0.00,  val loss 1.582924, percent error 30.50\n",
            "Epoch    53, train loss 0.002391, train error 0.00,  val loss 1.587326, percent error 30.50\n",
            "Epoch    54, train loss 0.002347, train error 0.00,  val loss 1.591354, percent error 30.50\n",
            "Epoch    55, train loss 0.002305, train error 0.00,  val loss 1.594969, percent error 30.60\n",
            "Epoch    56, train loss 0.002265, train error 0.00,  val loss 1.598034, percent error 30.60\n",
            "Epoch    57, train loss 0.002226, train error 0.00,  val loss 1.601899, percent error 30.50\n",
            "Epoch    58, train loss 0.002188, train error 0.00,  val loss 1.605538, percent error 30.50\n",
            "Epoch    59, train loss 0.002151, train error 0.00,  val loss 1.608171, percent error 30.40\n",
            "Epoch    60, train loss 0.002133, train error 0.00,  val loss 1.610213, percent error 30.40\n",
            "Epoch    61, train loss 0.002115, train error 0.00,  val loss 1.611477, percent error 30.30\n",
            "Epoch    62, train loss 0.002098, train error 0.00,  val loss 1.613310, percent error 30.40\n",
            "Epoch    63, train loss 0.002081, train error 0.00,  val loss 1.614672, percent error 30.50\n",
            "Epoch    64, train loss 0.002064, train error 0.00,  val loss 1.616659, percent error 30.30\n",
            "Epoch    65, train loss 0.002048, train error 0.00,  val loss 1.618222, percent error 30.40\n",
            "Epoch    66, train loss 0.002031, train error 0.00,  val loss 1.619893, percent error 30.40\n",
            "Epoch    67, train loss 0.002015, train error 0.00,  val loss 1.621634, percent error 30.40\n",
            "Epoch    68, train loss 0.001999, train error 0.00,  val loss 1.622849, percent error 30.40\n",
            "Epoch    69, train loss 0.001984, train error 0.00,  val loss 1.624645, percent error 30.40\n",
            "Epoch    70, train loss 0.001969, train error 0.00,  val loss 1.625974, percent error 30.40\n",
            "Epoch    71, train loss 0.001954, train error 0.00,  val loss 1.627634, percent error 30.40\n",
            "Epoch    72, train loss 0.001939, train error 0.00,  val loss 1.629076, percent error 30.40\n",
            "Epoch    73, train loss 0.001924, train error 0.00,  val loss 1.630605, percent error 30.40\n",
            "Epoch    74, train loss 0.001910, train error 0.00,  val loss 1.631856, percent error 30.40\n",
            "Epoch    75, train loss 0.001895, train error 0.00,  val loss 1.633561, percent error 30.40\n",
            "Epoch    76, train loss 0.001881, train error 0.00,  val loss 1.634922, percent error 30.40\n",
            "Epoch    77, train loss 0.001867, train error 0.00,  val loss 1.636171, percent error 30.40\n",
            "Epoch    78, train loss 0.001854, train error 0.00,  val loss 1.638098, percent error 30.40\n",
            "Epoch    79, train loss 0.001840, train error 0.00,  val loss 1.639492, percent error 30.40\n",
            "Epoch    80, train loss 0.001833, train error 0.00,  val loss 1.640270, percent error 30.40\n",
            "Epoch    81, train loss 0.001827, train error 0.00,  val loss 1.640793, percent error 30.40\n",
            "Epoch    82, train loss 0.001820, train error 0.00,  val loss 1.641456, percent error 30.40\n",
            "Epoch    83, train loss 0.001814, train error 0.00,  val loss 1.642366, percent error 30.40\n",
            "Epoch    84, train loss 0.001807, train error 0.00,  val loss 1.643021, percent error 30.40\n",
            "Epoch    85, train loss 0.001801, train error 0.00,  val loss 1.643753, percent error 30.40\n",
            "Epoch    86, train loss 0.001794, train error 0.00,  val loss 1.644514, percent error 30.40\n",
            "Epoch    87, train loss 0.001788, train error 0.00,  val loss 1.644998, percent error 30.40\n",
            "Epoch    88, train loss 0.001782, train error 0.00,  val loss 1.645684, percent error 30.40\n",
            "Epoch    89, train loss 0.001776, train error 0.00,  val loss 1.646693, percent error 30.50\n",
            "Epoch    90, train loss 0.001769, train error 0.00,  val loss 1.647185, percent error 30.40\n",
            "Epoch    91, train loss 0.001763, train error 0.00,  val loss 1.647863, percent error 30.40\n",
            "Epoch    92, train loss 0.001757, train error 0.00,  val loss 1.648475, percent error 30.50\n",
            "Epoch    93, train loss 0.001751, train error 0.00,  val loss 1.649167, percent error 30.40\n",
            "Epoch    94, train loss 0.001745, train error 0.00,  val loss 1.650064, percent error 30.50\n",
            "Epoch    95, train loss 0.001739, train error 0.00,  val loss 1.650579, percent error 30.50\n",
            "Epoch    96, train loss 0.001733, train error 0.00,  val loss 1.651330, percent error 30.40\n",
            "Epoch    97, train loss 0.001727, train error 0.00,  val loss 1.652035, percent error 30.40\n",
            "Epoch    98, train loss 0.001721, train error 0.00,  val loss 1.652668, percent error 30.50\n",
            "Epoch    99, train loss 0.001715, train error 0.00,  val loss 1.653257, percent error 30.40\n"
          ]
        }
      ]
    },
    {
      "cell_type": "code",
      "source": [
        "# Plot the results\n",
        "fig, ax = plt.subplots()\n",
        "ax.plot(errors_train,'r-',label='train')\n",
        "ax.plot(errors_val,'b-',label='test')\n",
        "ax.set_ylim(0,100); ax.set_xlim(0,n_epoch)\n",
        "ax.set_xlabel('Epoch'); ax.set_ylabel('Error')\n",
        "ax.set_title('TrainError %3.2f, Val Error %3.2f'%(errors_train[-1],errors_val[-1]))\n",
        "ax.legend()\n",
        "plt.show()"
      ],
      "metadata": {
        "id": "CcP_VyEmE2sv",
        "outputId": "cd4832c9-fa09-49f5-c936-d3754d4dcd22",
        "colab": {
          "base_uri": "https://localhost:8080/",
          "height": 472
        }
      },
      "execution_count": 31,
      "outputs": [
        {
          "output_type": "display_data",
          "data": {
            "text/plain": [
              "<Figure size 640x480 with 1 Axes>"
            ],
            "image/png": "[encoded data removed]"
          },
          "metadata": {}
        }
      ]
    },
    {
      "cell_type": "markdown",
      "source": [
        "The primary motivation of residual networks is to allow training of much deeper networks.   \n",
        "\n",
        "TODO: Try running this network with and without the residual connections.  Does adding the residual connections change the performance?"
      ],
      "metadata": {
        "id": "wMmqhmxuAx0M"
      }
    },
    {
      "cell_type": "code",
      "source": [
        "## Without residual connections\n",
        "# There are 40 input dimensions and 10 output dimensions for this data\n",
        "# The inputs correspond to the 40 offsets in the MNIST1D template.\n",
        "D_i = 40\n",
        "# The outputs correspond to the 10 digits\n",
        "D_o = 10\n",
        "\n",
        "\n",
        "# We will adapt this model not to have residual connections around the linear layers\n",
        "# This is the same model we used in practical 8.1, but we can't use the sequential\n",
        "# class for residual networks (which aren't strictly sequential).  Hence, I've rewritten\n",
        "# it as a model that inherits from a base class\n",
        "\n",
        "class ResidualNetwork(torch.nn.Module):\n",
        "  def __init__(self, input_size, output_size, hidden_size=100):\n",
        "    super(ResidualNetwork, self).__init__()\n",
        "    self.linear1 = nn.Linear(input_size, hidden_size)\n",
        "    self.linear2 = nn.Linear(hidden_size, hidden_size)\n",
        "    self.linear3 = nn.Linear(hidden_size, hidden_size)\n",
        "    self.linear4 = nn.Linear(hidden_size, output_size)\n",
        "    print(\"Initialized MLPBase model with {} parameters\".format(self.count_params()))\n",
        "\n",
        "  def count_params(self):\n",
        "    return sum([p.view(-1).shape[0] for p in self.parameters()])\n",
        "\n",
        "# TODO -- Add residual connections to this model\n",
        "# The order of operations within each block should similar to figure 11.5b\n",
        "# ie., linear1 first, ReLU+linear2 in first residual block, ReLU+linear3 in second residual block), linear4 at end\n",
        "# Replace this function\n",
        "  def forward(self, x):\n",
        "    h1 = self.linear1(x).relu()\n",
        "    h2 = self.linear2(h1).relu()\n",
        "    h3 = self.linear3(h2).relu()\n",
        "    return self.linear4(h3)"
      ],
      "metadata": {
        "id": "dxP5GSMb7vfD"
      },
      "execution_count": 32,
      "outputs": []
    },
    {
      "cell_type": "code",
      "source": [
        "# He initialization of weights\n",
        "def weights_init(layer_in):\n",
        "  if isinstance(layer_in, nn.Linear):\n",
        "    nn.init.kaiming_uniform_(layer_in.weight)\n",
        "    layer_in.bias.data.fill_(0.0)"
      ],
      "metadata": {
        "id": "VkBDF1Ii74NK"
      },
      "execution_count": 33,
      "outputs": []
    },
    {
      "cell_type": "code",
      "source": [
        "#Define the model\n",
        "model = ResidualNetwork(40, 10)\n",
        "\n",
        "# choose cross entropy loss function (equation 5.24 in the loss notes)\n",
        "loss_function = nn.CrossEntropyLoss()\n",
        "# construct SGD optimizer and initialize learning rate and momentum\n",
        "optimizer = torch.optim.SGD(model.parameters(), lr = 0.05, momentum=0.9)\n",
        "# object that decreases learning rate by half every 20 epochs\n",
        "scheduler = StepLR(optimizer, step_size=20, gamma=0.5)\n",
        "# convert data to torch tensors\n",
        "x_train = torch.tensor(train_data_x.transpose().astype('float32'))\n",
        "y_train = torch.tensor(train_data_y.astype('long'))\n",
        "x_val= torch.tensor(val_data_x.transpose().astype('float32'))\n",
        "y_val = torch.tensor(val_data_y.astype('long'))\n",
        "\n",
        "# load the data into a class that creates the batches\n",
        "data_loader = DataLoader(TensorDataset(x_train,y_train), batch_size=100, shuffle=True, worker_init_fn=np.random.seed(1))\n",
        "\n",
        "# Initialize model weights\n",
        "model.apply(weights_init)\n",
        "\n",
        "# loop over the dataset n_epoch times\n",
        "n_epoch = 100\n",
        "# store the loss and the % correct at each epoch\n",
        "losses_train = np.zeros((n_epoch))\n",
        "errors_train = np.zeros((n_epoch))\n",
        "losses_val = np.zeros((n_epoch))\n",
        "errors_val = np.zeros((n_epoch))\n",
        "\n",
        "for epoch in range(n_epoch):\n",
        "  # loop over batches\n",
        "  for i, data in enumerate(data_loader):\n",
        "    # retrieve inputs and labels for this batch\n",
        "    x_batch, y_batch = data\n",
        "    # zero the parameter gradients\n",
        "    optimizer.zero_grad()\n",
        "    # forward pass -- calculate model output\n",
        "    pred = model(x_batch)\n",
        "    # compute the loss\n",
        "    loss = loss_function(pred, y_batch)\n",
        "    # backward pass\n",
        "    loss.backward()\n",
        "    # SGD update\n",
        "    optimizer.step()\n",
        "\n",
        "  # Run whole dataset to get statistics -- normally wouldn't do this\n",
        "  pred_train = model(x_train)\n",
        "  pred_val = model(x_val)\n",
        "  _, predicted_train_class = torch.max(pred_train.data, 1)\n",
        "  _, predicted_val_class = torch.max(pred_val.data, 1)\n",
        "  errors_train[epoch] = 100 - 100 * (predicted_train_class == y_train).float().sum() / len(y_train)\n",
        "  errors_val[epoch]= 100 - 100 * (predicted_val_class == y_val).float().sum() / len(y_val)\n",
        "  losses_train[epoch] = loss_function(pred_train, y_train).item()\n",
        "  losses_val[epoch]= loss_function(pred_val, y_val).item()\n",
        "  print(f'Epoch {epoch:5d}, train loss {losses_train[epoch]:.6f}, train error {errors_train[epoch]:3.2f},  val loss {losses_val[epoch]:.6f}, percent error {errors_val[epoch]:3.2f}')\n",
        "\n",
        "  # tell scheduler to consider updating learning rate\n",
        "  scheduler.step()"
      ],
      "metadata": {
        "id": "3qUkt-yw74hY",
        "outputId": "21e8dfbb-516a-4872-85a7-20bde73a9001",
        "colab": {
          "base_uri": "https://localhost:8080/"
        }
      },
      "execution_count": 34,
      "outputs": [
        {
          "output_type": "stream",
          "name": "stdout",
          "text": [
            "Initialized MLPBase model with 25310 parameters\n",
            "Epoch     0, train loss 1.626304, train error 64.38,  val loss 1.722368, percent error 70.60\n",
            "Epoch     1, train loss 1.338448, train error 51.42,  val loss 1.492167, percent error 60.20\n",
            "Epoch     2, train loss 1.160320, train error 41.30,  val loss 1.378613, percent error 52.20\n",
            "Epoch     3, train loss 1.021915, train error 37.12,  val loss 1.281070, percent error 49.10\n",
            "Epoch     4, train loss 0.925112, train error 34.38,  val loss 1.252520, percent error 46.90\n",
            "Epoch     5, train loss 0.743393, train error 26.90,  val loss 1.149715, percent error 43.90\n",
            "Epoch     6, train loss 0.658705, train error 24.00,  val loss 1.156645, percent error 43.10\n",
            "Epoch     7, train loss 0.545075, train error 19.22,  val loss 1.130285, percent error 40.20\n",
            "Epoch     8, train loss 0.481245, train error 16.95,  val loss 1.079077, percent error 39.10\n",
            "Epoch     9, train loss 0.393996, train error 13.07,  val loss 1.125899, percent error 39.80\n",
            "Epoch    10, train loss 0.357705, train error 12.03,  val loss 1.188295, percent error 38.00\n",
            "Epoch    11, train loss 0.325936, train error 11.65,  val loss 1.192203, percent error 38.30\n",
            "Epoch    12, train loss 0.258773, train error 8.35,  val loss 1.247382, percent error 37.20\n",
            "Epoch    13, train loss 0.253572, train error 8.72,  val loss 1.259615, percent error 36.70\n",
            "Epoch    14, train loss 0.214642, train error 6.62,  val loss 1.246085, percent error 36.70\n",
            "Epoch    15, train loss 0.153861, train error 5.25,  val loss 1.319258, percent error 35.60\n",
            "Epoch    16, train loss 0.125726, train error 3.57,  val loss 1.340851, percent error 35.60\n",
            "Epoch    17, train loss 0.082252, train error 2.12,  val loss 1.289483, percent error 33.40\n",
            "Epoch    18, train loss 0.078090, train error 2.10,  val loss 1.486330, percent error 36.10\n",
            "Epoch    19, train loss 0.113208, train error 3.35,  val loss 1.495924, percent error 37.00\n",
            "Epoch    20, train loss 0.044581, train error 0.78,  val loss 1.430743, percent error 34.70\n",
            "Epoch    21, train loss 0.015803, train error 0.03,  val loss 1.432248, percent error 35.60\n",
            "Epoch    22, train loss 0.010510, train error 0.00,  val loss 1.450808, percent error 34.20\n",
            "Epoch    23, train loss 0.008428, train error 0.00,  val loss 1.479416, percent error 33.60\n",
            "Epoch    24, train loss 0.007278, train error 0.00,  val loss 1.507931, percent error 34.20\n",
            "Epoch    25, train loss 0.006439, train error 0.00,  val loss 1.525489, percent error 33.90\n",
            "Epoch    26, train loss 0.005860, train error 0.00,  val loss 1.542187, percent error 34.00\n",
            "Epoch    27, train loss 0.005408, train error 0.00,  val loss 1.557543, percent error 34.10\n",
            "Epoch    28, train loss 0.004902, train error 0.00,  val loss 1.572554, percent error 33.90\n",
            "Epoch    29, train loss 0.004565, train error 0.00,  val loss 1.583313, percent error 33.90\n",
            "Epoch    30, train loss 0.004269, train error 0.00,  val loss 1.601111, percent error 34.60\n",
            "Epoch    31, train loss 0.004001, train error 0.00,  val loss 1.611147, percent error 34.10\n",
            "Epoch    32, train loss 0.003783, train error 0.00,  val loss 1.622374, percent error 34.00\n",
            "Epoch    33, train loss 0.003575, train error 0.00,  val loss 1.629971, percent error 34.10\n",
            "Epoch    34, train loss 0.003395, train error 0.00,  val loss 1.640632, percent error 33.90\n",
            "Epoch    35, train loss 0.003247, train error 0.00,  val loss 1.649754, percent error 33.90\n",
            "Epoch    36, train loss 0.003087, train error 0.00,  val loss 1.658870, percent error 33.90\n",
            "Epoch    37, train loss 0.002956, train error 0.00,  val loss 1.665668, percent error 34.00\n",
            "Epoch    38, train loss 0.002836, train error 0.00,  val loss 1.675731, percent error 33.90\n",
            "Epoch    39, train loss 0.002722, train error 0.00,  val loss 1.686362, percent error 33.90\n",
            "Epoch    40, train loss 0.002662, train error 0.00,  val loss 1.687161, percent error 34.00\n",
            "Epoch    41, train loss 0.002611, train error 0.00,  val loss 1.691317, percent error 34.10\n",
            "Epoch    42, train loss 0.002562, train error 0.00,  val loss 1.695257, percent error 34.10\n",
            "Epoch    43, train loss 0.002517, train error 0.00,  val loss 1.698637, percent error 34.00\n",
            "Epoch    44, train loss 0.002471, train error 0.00,  val loss 1.702706, percent error 34.20\n",
            "Epoch    45, train loss 0.002429, train error 0.00,  val loss 1.706412, percent error 34.00\n",
            "Epoch    46, train loss 0.002386, train error 0.00,  val loss 1.709790, percent error 34.20\n",
            "Epoch    47, train loss 0.002346, train error 0.00,  val loss 1.713189, percent error 34.30\n",
            "Epoch    48, train loss 0.002307, train error 0.00,  val loss 1.716750, percent error 34.20\n",
            "Epoch    49, train loss 0.002270, train error 0.00,  val loss 1.720036, percent error 34.20\n",
            "Epoch    50, train loss 0.002232, train error 0.00,  val loss 1.724414, percent error 34.40\n",
            "Epoch    51, train loss 0.002197, train error 0.00,  val loss 1.727249, percent error 34.20\n",
            "Epoch    52, train loss 0.002163, train error 0.00,  val loss 1.729640, percent error 34.20\n",
            "Epoch    53, train loss 0.002130, train error 0.00,  val loss 1.733328, percent error 34.40\n",
            "Epoch    54, train loss 0.002098, train error 0.00,  val loss 1.736591, percent error 34.30\n",
            "Epoch    55, train loss 0.002067, train error 0.00,  val loss 1.740729, percent error 34.30\n",
            "Epoch    56, train loss 0.002036, train error 0.00,  val loss 1.743316, percent error 34.30\n",
            "Epoch    57, train loss 0.002006, train error 0.00,  val loss 1.744924, percent error 34.30\n",
            "Epoch    58, train loss 0.001977, train error 0.00,  val loss 1.749293, percent error 34.30\n",
            "Epoch    59, train loss 0.001949, train error 0.00,  val loss 1.751628, percent error 34.30\n",
            "Epoch    60, train loss 0.001935, train error 0.00,  val loss 1.752968, percent error 34.30\n",
            "Epoch    61, train loss 0.001922, train error 0.00,  val loss 1.754477, percent error 34.30\n",
            "Epoch    62, train loss 0.001909, train error 0.00,  val loss 1.755763, percent error 34.30\n",
            "Epoch    63, train loss 0.001896, train error 0.00,  val loss 1.757549, percent error 34.30\n",
            "Epoch    64, train loss 0.001883, train error 0.00,  val loss 1.758699, percent error 34.30\n",
            "Epoch    65, train loss 0.001870, train error 0.00,  val loss 1.760171, percent error 34.20\n",
            "Epoch    66, train loss 0.001857, train error 0.00,  val loss 1.761739, percent error 34.40\n",
            "Epoch    67, train loss 0.001845, train error 0.00,  val loss 1.762826, percent error 34.30\n",
            "Epoch    68, train loss 0.001833, train error 0.00,  val loss 1.763843, percent error 34.30\n",
            "Epoch    69, train loss 0.001821, train error 0.00,  val loss 1.765722, percent error 34.30\n",
            "Epoch    70, train loss 0.001809, train error 0.00,  val loss 1.766972, percent error 34.30\n",
            "Epoch    71, train loss 0.001797, train error 0.00,  val loss 1.768553, percent error 34.30\n",
            "Epoch    72, train loss 0.001786, train error 0.00,  val loss 1.769265, percent error 34.30\n",
            "Epoch    73, train loss 0.001775, train error 0.00,  val loss 1.770662, percent error 34.40\n",
            "Epoch    74, train loss 0.001763, train error 0.00,  val loss 1.772184, percent error 34.30\n",
            "Epoch    75, train loss 0.001752, train error 0.00,  val loss 1.773719, percent error 34.40\n",
            "Epoch    76, train loss 0.001741, train error 0.00,  val loss 1.774720, percent error 34.40\n",
            "Epoch    77, train loss 0.001730, train error 0.00,  val loss 1.776202, percent error 34.30\n",
            "Epoch    78, train loss 0.001720, train error 0.00,  val loss 1.777011, percent error 34.30\n",
            "Epoch    79, train loss 0.001709, train error 0.00,  val loss 1.778768, percent error 34.40\n",
            "Epoch    80, train loss 0.001704, train error 0.00,  val loss 1.779354, percent error 34.40\n",
            "Epoch    81, train loss 0.001698, train error 0.00,  val loss 1.780035, percent error 34.40\n",
            "Epoch    82, train loss 0.001693, train error 0.00,  val loss 1.780430, percent error 34.40\n",
            "Epoch    83, train loss 0.001688, train error 0.00,  val loss 1.781375, percent error 34.40\n",
            "Epoch    84, train loss 0.001683, train error 0.00,  val loss 1.781821, percent error 34.30\n",
            "Epoch    85, train loss 0.001678, train error 0.00,  val loss 1.782585, percent error 34.30\n",
            "Epoch    86, train loss 0.001673, train error 0.00,  val loss 1.783085, percent error 34.40\n",
            "Epoch    87, train loss 0.001668, train error 0.00,  val loss 1.783761, percent error 34.40\n",
            "Epoch    88, train loss 0.001663, train error 0.00,  val loss 1.784338, percent error 34.40\n",
            "Epoch    89, train loss 0.001658, train error 0.00,  val loss 1.785072, percent error 34.30\n",
            "Epoch    90, train loss 0.001653, train error 0.00,  val loss 1.785644, percent error 34.30\n",
            "Epoch    91, train loss 0.001648, train error 0.00,  val loss 1.786065, percent error 34.30\n",
            "Epoch    92, train loss 0.001643, train error 0.00,  val loss 1.787111, percent error 34.30\n",
            "Epoch    93, train loss 0.001638, train error 0.00,  val loss 1.787252, percent error 34.30\n",
            "Epoch    94, train loss 0.001634, train error 0.00,  val loss 1.788100, percent error 34.30\n",
            "Epoch    95, train loss 0.001629, train error 0.00,  val loss 1.788599, percent error 34.30\n",
            "Epoch    96, train loss 0.001624, train error 0.00,  val loss 1.789219, percent error 34.30\n",
            "Epoch    97, train loss 0.001619, train error 0.00,  val loss 1.789865, percent error 34.30\n",
            "Epoch    98, train loss 0.001615, train error 0.00,  val loss 1.790598, percent error 34.30\n",
            "Epoch    99, train loss 0.001610, train error 0.00,  val loss 1.790854, percent error 34.30\n"
          ]
        }
      ]
    },
    {
      "cell_type": "code",
      "source": [
        "# Plot the results\n",
        "fig, ax = plt.subplots()\n",
        "ax.plot(errors_train,'r-',label='train')\n",
        "ax.plot(errors_val,'b-',label='test')\n",
        "ax.set_ylim(0,100); ax.set_xlim(0,n_epoch)\n",
        "ax.set_xlabel('Epoch'); ax.set_ylabel('Error')\n",
        "ax.set_title('TrainError %3.2f, Val Error %3.2f'%(errors_train[-1],errors_val[-1]))\n",
        "ax.legend()\n",
        "plt.show()"
      ],
      "metadata": {
        "id": "_zluhdAi8F1z",
        "outputId": "1e792c5b-f07d-4bf7-d42f-13e658906b9b",
        "colab": {
          "base_uri": "https://localhost:8080/",
          "height": 472
        }
      },
      "execution_count": 35,
      "outputs": [
        {
          "output_type": "display_data",
          "data": {
            "text/plain": [
              "<Figure size 640x480 with 1 Axes>"
            ],
            "image/png": "[encoded data removed]"
          },
          "metadata": {}
        }
      ]
    },
    {
      "cell_type": "code",
      "source": [
        "## Therefore, having residual connection changes the performance or increases the performance"
      ],
      "metadata": {
        "id": "16f1Odp38GJJ"
      },
      "execution_count": 36,
      "outputs": []
    },
    {
      "cell_type": "code",
      "source": [],
      "metadata": {
        "id": "nyd88d5-9gcm"
      },
      "execution_count": null,
      "outputs": []
    }
  ]
}