{
  "nbformat": 4,
  "nbformat_minor": 0,
  "metadata": {
    "colab": {
      "provenance": [],
      "include_colab_link": true
    },
    "kernelspec": {
      "name": "python3",
      "display_name": "Python 3"
    },
    "language_info": {
      "name": "python"
    }
  },
  "cells": [
    {
      "cell_type": "markdown",
      "metadata": {
        "id": "view-in-github",
        "colab_type": "text"
      },
      "source": [
        "<a href=\"https://colab.research.google.com/github/vvithurshan/DeepLearning/blob/main/Notebooks/Chap12/12_3_Tokenization.ipynb\" target=\"_parent\"><img src=\"https://colab.research.google.com/assets/colab-badge.svg\" alt=\"Open In Colab\"/></a>"
      ]
    },
    {
      "cell_type": "markdown",
      "source": [
        "# **Notebook 12.3: Tokenization**\n",
        "\n",
        "This notebook builds set of tokens from a text string as in figure 12.8 of the book.\n",
        "\n",
        "Work through the cells below, running each cell in turn. In various places you will see the words \"TODO\". Follow the instructions at these places and make predictions about what is going to happen or write code to complete the functions.\n",
        "\n",
        "I adapted this code from *SOMEWHERE*.  If anyone recognizes it, can you let me know and I will give the proper attribution or rewrite if the license is not permissive.\n",
        "\n",
        "Contact me at udlbookmail@gmail.com if you find any mistakes or have any suggestions.\n",
        "\n"
      ],
      "metadata": {
        "id": "t9vk9Elugvmi"
      }
    },
    {
      "cell_type": "code",
      "source": [
        "import re, collections"
      ],
      "metadata": {
        "id": "3_WkaFO3OfLi"
      },
      "execution_count": 1,
      "outputs": []
    },
    {
      "cell_type": "code",
      "source": [
        "text = \"a sailor went to sea sea sea \"+\\\n",
        "                  \"to see what he could see see see \"+\\\n",
        "                  \"but all that he could see see see \"+\\\n",
        "                  \"was the bottom of the deep blue sea sea sea\""
      ],
      "metadata": {
        "id": "tVZVuauIXmJk"
      },
      "execution_count": 2,
      "outputs": []
    },
    {
      "cell_type": "markdown",
      "source": [
        "Tokenize the input sentence To begin with the tokens are the individual letters and the </w> whitespace token. So, we represent each word in terms of these tokens with spaces between the tokens to delineate them.\n",
        "\n",
        "The tokenized text is stored in a structure that represents each word as tokens together with the count of how often that word occurs.  We'll call this the *vocabulary*."
      ],
      "metadata": {
        "id": "fF2RBrouWV5w"
      }
    },
    {
      "cell_type": "code",
      "source": [
        "def initialize_vocabulary(text):\n",
        "  vocab = collections.defaultdict(int)\n",
        "  words = text.strip().split()\n",
        "  for word in words:\n",
        "      vocab[' '.join(list(word)) + ' </w>'] += 1\n",
        "  return vocab"
      ],
      "metadata": {
        "id": "OfvXkLSARk4_"
      },
      "execution_count": 3,
      "outputs": []
    },
    {
      "cell_type": "code",
      "source": [
        "vocab = initialize_vocabulary(text)\n",
        "print('Vocabulary: {}'.format(vocab))\n",
        "print('Size of vocabulary: {}'.format(len(vocab)))"
      ],
      "metadata": {
        "id": "aydmNqaoOpSm",
        "outputId": "7378a55f-766c-4c8f-b4b0-f20ab10f2990",
        "colab": {
          "base_uri": "https://localhost:8080/"
        }
      },
      "execution_count": 4,
      "outputs": [
        {
          "output_type": "stream",
          "name": "stdout",
          "text": [
            "Vocabulary: defaultdict(<class 'int'>, {'a </w>': 1, 's a i l o r </w>': 1, 'w e n t </w>': 1, 't o </w>': 2, 's e a </w>': 6, 's e e </w>': 7, 'w h a t </w>': 1, 'h e </w>': 2, 'c o u l d </w>': 2, 'b u t </w>': 1, 'a l l </w>': 1, 't h a t </w>': 1, 'w a s </w>': 1, 't h e </w>': 2, 'b o t t o m </w>': 1, 'o f </w>': 1, 'd e e p </w>': 1, 'b l u e </w>': 1})\n",
            "Size of vocabulary: 18\n"
          ]
        }
      ]
    },
    {
      "cell_type": "markdown",
      "source": [
        "Find all the tokens in the current vocabulary and their frequencies"
      ],
      "metadata": {
        "id": "fJAiCjphWsI9"
      }
    },
    {
      "cell_type": "code",
      "source": [
        "def get_tokens_and_frequencies(vocab):\n",
        "  tokens = collections.defaultdict(int)\n",
        "  for word, freq in vocab.items():\n",
        "      word_tokens = word.split()\n",
        "      for token in word_tokens:\n",
        "          tokens[token] += freq\n",
        "  return tokens"
      ],
      "metadata": {
        "id": "qYi6F_K3RYsW"
      },
      "execution_count": 5,
      "outputs": []
    },
    {
      "cell_type": "code",
      "source": [
        "tokens = get_tokens_and_frequencies(vocab)\n",
        "print('Tokens: {}'.format(tokens))\n",
        "print('Number of tokens: {}'.format(len(tokens)))"
      ],
      "metadata": {
        "id": "Y4LCVGnvXIwp",
        "outputId": "b2e25813-f68f-4094-d951-cf91f101150b",
        "colab": {
          "base_uri": "https://localhost:8080/"
        }
      },
      "execution_count": 6,
      "outputs": [
        {
          "output_type": "stream",
          "name": "stdout",
          "text": [
            "Tokens: defaultdict(<class 'int'>, {'a': 12, '</w>': 33, 's': 15, 'i': 1, 'l': 6, 'o': 8, 'r': 1, 'w': 3, 'e': 28, 'n': 1, 't': 11, 'h': 6, 'c': 2, 'u': 4, 'd': 3, 'b': 3, 'm': 1, 'f': 1, 'p': 1})\n",
            "Number of tokens: 19\n"
          ]
        }
      ]
    },
    {
      "cell_type": "markdown",
      "source": [
        "Find each pair of adjacent tokens in the vocabulary\n",
        "and count them.  We will subsequently merge the most frequently occurring pair."
      ],
      "metadata": {
        "id": "_-Rh1mD_Ww3b"
      }
    },
    {
      "cell_type": "code",
      "source": [
        "def get_pairs_and_counts(vocab):\n",
        "    pairs = collections.defaultdict(int)\n",
        "    for word, freq in vocab.items():\n",
        "        symbols = word.split()\n",
        "        for i in range(len(symbols)-1):\n",
        "            pairs[symbols[i],symbols[i+1]] += freq\n",
        "    return pairs"
      ],
      "metadata": {
        "id": "OqJTB3UFYubH"
      },
      "execution_count": 12,
      "outputs": []
    },
    {
      "cell_type": "code",
      "source": [
        "pairs = get_pairs_and_counts(vocab)\n",
        "print('Pairs: {}'.format(pairs))\n",
        "print('Number of distinct pairs: {}'.format(len(pairs)))\n",
        "\n",
        "most_frequent_pair = max(pairs, key=pairs.get)\n",
        "print('Most frequent pair: {}'.format(most_frequent_pair))"
      ],
      "metadata": {
        "id": "d-zm0JBcZSjS",
        "outputId": "ccdafdd4-28b6-48c9-9d0d-d1ed84fe6957",
        "colab": {
          "base_uri": "https://localhost:8080/"
        }
      },
      "execution_count": 8,
      "outputs": [
        {
          "output_type": "stream",
          "name": "stdout",
          "text": [
            "Pairs: defaultdict(<class 'int'>, {('a', '</w>'): 7, ('s', 'a'): 1, ('a', 'i'): 1, ('i', 'l'): 1, ('l', 'o'): 1, ('o', 'r'): 1, ('r', '</w>'): 1, ('w', 'e'): 1, ('e', 'n'): 1, ('n', 't'): 1, ('t', '</w>'): 4, ('t', 'o'): 3, ('o', '</w>'): 2, ('s', 'e'): 13, ('e', 'a'): 6, ('e', 'e'): 8, ('e', '</w>'): 12, ('w', 'h'): 1, ('h', 'a'): 2, ('a', 't'): 2, ('h', 'e'): 4, ('c', 'o'): 2, ('o', 'u'): 2, ('u', 'l'): 2, ('l', 'd'): 2, ('d', '</w>'): 2, ('b', 'u'): 1, ('u', 't'): 1, ('a', 'l'): 1, ('l', 'l'): 1, ('l', '</w>'): 1, ('t', 'h'): 3, ('w', 'a'): 1, ('a', 's'): 1, ('s', '</w>'): 1, ('b', 'o'): 1, ('o', 't'): 1, ('t', 't'): 1, ('o', 'm'): 1, ('m', '</w>'): 1, ('o', 'f'): 1, ('f', '</w>'): 1, ('d', 'e'): 1, ('e', 'p'): 1, ('p', '</w>'): 1, ('b', 'l'): 1, ('l', 'u'): 1, ('u', 'e'): 1})\n",
            "Number of distinct pairs: 48\n",
            "Most frequent pair: ('s', 'e')\n"
          ]
        }
      ]
    },
    {
      "cell_type": "markdown",
      "source": [
        "Merge the instances of the best pair in the vocabulary"
      ],
      "metadata": {
        "id": "pcborzqIXQFS"
      }
    },
    {
      "cell_type": "code",
      "source": [
        "def merge_pair_in_vocabulary(pair, vocab_in):\n",
        "    vocab_out = {}\n",
        "    bigram = re.escape(' '.join(pair))\n",
        "    p = re.compile(r'(?<!\\S)' + bigram + r'(?!\\S)')\n",
        "    for word in vocab_in:\n",
        "        word_out = p.sub(''.join(pair), word)\n",
        "        vocab_out[word_out] = vocab_in[word]\n",
        "    return vocab_out"
      ],
      "metadata": {
        "id": "xQI6NALdWQZX"
      },
      "execution_count": 13,
      "outputs": []
    },
    {
      "cell_type": "code",
      "source": [
        "vocab = merge_pair_in_vocabulary(most_frequent_pair, vocab)\n",
        "print('Vocabulary: {}'.format(vocab))\n",
        "print('Size of vocabulary: {}'.format(len(vocab)))"
      ],
      "metadata": {
        "id": "TRYeBZI3ZULu",
        "outputId": "7eebe39f-b7c8-47dd-cd3f-86c913039f4c",
        "colab": {
          "base_uri": "https://localhost:8080/"
        }
      },
      "execution_count": 14,
      "outputs": [
        {
          "output_type": "stream",
          "name": "stdout",
          "text": [
            "Vocabulary: {'a </w>': 1, 's a i l o r </w>': 1, 'w e n t </w>': 1, 't o </w>': 2, 'se a </w>': 6, 'se e </w>': 7, 'w h a t </w>': 1, 'h e </w>': 2, 'c o u l d </w>': 2, 'b u t </w>': 1, 'a l l </w>': 1, 't h a t </w>': 1, 'w a s </w>': 1, 't h e </w>': 2, 'b o t t o m </w>': 1, 'o f </w>': 1, 'd e e p </w>': 1, 'b l u e </w>': 1}\n",
            "Size of vocabulary: 18\n"
          ]
        }
      ]
    },
    {
      "cell_type": "markdown",
      "source": [
        "Update the tokens, which now include the best token 'se'"
      ],
      "metadata": {
        "id": "bkhUx3GeXwba"
      }
    },
    {
      "cell_type": "code",
      "source": [
        "tokens = get_tokens_and_frequencies(vocab)\n",
        "print('Tokens: {}'.format(tokens))\n",
        "print('Number of tokens: {}'.format(len(tokens)))"
      ],
      "metadata": {
        "id": "Fqj-vQWeXxQi",
        "outputId": "70cda039-8d7b-4f47-ed32-4e10e2e61ace",
        "colab": {
          "base_uri": "https://localhost:8080/"
        }
      },
      "execution_count": 15,
      "outputs": [
        {
          "output_type": "stream",
          "name": "stdout",
          "text": [
            "Tokens: defaultdict(<class 'int'>, {'a': 12, '</w>': 33, 's': 2, 'i': 1, 'l': 6, 'o': 8, 'r': 1, 'w': 3, 'e': 15, 'n': 1, 't': 11, 'se': 13, 'h': 6, 'c': 2, 'u': 4, 'd': 3, 'b': 3, 'm': 1, 'f': 1, 'p': 1})\n",
            "Number of tokens: 20\n"
          ]
        }
      ]
    },
    {
      "cell_type": "markdown",
      "source": [
        "Now let's write the full tokenization routine"
      ],
      "metadata": {
        "id": "K_hKp2kSXXS1"
      }
    },
    {
      "cell_type": "code",
      "source": [
        "# TODO -- write this routine by filling in this missing parts,\n",
        "# calling the above routines\n",
        "def tokenize(text, num_merges):\n",
        "  # Initialize the vocabulary from the input text\n",
        "  vocab = initialize_vocabulary(text)\n",
        "\n",
        "  for i in range(num_merges):\n",
        "    # Find the tokens and how often they occur in the vocabulary\n",
        "    tokens = get_tokens_and_frequencies(vocab)\n",
        "\n",
        "    # Find the pairs of adjacent tokens and their counts\n",
        "    pairs = get_pairs_and_counts(vocab)\n",
        "\n",
        "    # Find the most frequent pair\n",
        "    most_frequent_pair = max(pairs, key=pairs.get)\n",
        "\n",
        "    # Merge the most frequent pair in the vocabulary\n",
        "    vocab = merge_pair_in_vocabulary(most_frequent_pair, vocab)\n",
        "\n",
        "    # Merge the code in the vocabulary\n",
        "    vocab = merge_pair_in_vocabulary(most_frequent_pair, vocab)\n",
        "\n",
        "  # Find the tokens and how often they occur in the vocabulary one last time\n",
        "  tokens = get_tokens_and_frequencies(vocab)\n",
        "\n",
        "  return tokens, vocab"
      ],
      "metadata": {
        "id": "U_1SkQRGQ8f3"
      },
      "execution_count": 17,
      "outputs": []
    },
    {
      "cell_type": "code",
      "source": [
        "tokens, vocab = tokenize(text, num_merges=22)"
      ],
      "metadata": {
        "id": "w0EkHTrER_-I"
      },
      "execution_count": 20,
      "outputs": []
    },
    {
      "cell_type": "code",
      "source": [
        "print('Tokens: {}'.format(tokens))\n",
        "print('Number of tokens: {}'.format(len(tokens)))\n",
        "print('Vocabulary: {}'.format(vocab))\n",
        "print('Size of vocabulary: {}'.format(len(vocab)))"
      ],
      "metadata": {
        "id": "moqDtTzIb-NG",
        "outputId": "d0d70de1-77bc-403f-f63d-37fd83489c4e",
        "colab": {
          "base_uri": "https://localhost:8080/"
        }
      },
      "execution_count": 19,
      "outputs": [
        {
          "output_type": "stream",
          "name": "stdout",
          "text": [
            "Tokens: defaultdict(<class 'int'>, {'a</w>': 1, 'sailor': 1, '</w>': 6, 'w': 3, 'e': 3, 'n': 1, 't</w>': 2, 'to</w>': 2, 'sea</w>': 6, 'see</w>': 7, 'hat</w>': 2, 'he</w>': 2, 'could</w>': 2, 'b': 3, 'u': 2, 'a': 2, 'l': 3, 't': 2, 's': 1, 'the</w>': 2, 'o': 2, 'to': 1, 'm': 1, 'f': 1, 'd': 1, 'p': 1, 'e</w>': 1})\n",
            "Number of tokens: 27\n",
            "Vocabulary: {'a</w>': 1, 'sailor </w>': 1, 'w e n t</w>': 1, 'to</w>': 2, 'sea</w>': 6, 'see</w>': 7, 'w hat</w>': 1, 'he</w>': 2, 'could</w>': 2, 'b u t</w>': 1, 'a l l </w>': 1, 't hat</w>': 1, 'w a s </w>': 1, 'the</w>': 2, 'b o t to m </w>': 1, 'o f </w>': 1, 'd e e p </w>': 1, 'b l u e</w>': 1}\n",
            "Size of vocabulary: 18\n"
          ]
        }
      ]
    },
    {
      "cell_type": "markdown",
      "source": [
        "TODO - Consider the input text:\n",
        "\n",
        "\"How much wood could a woodchuck chuck if a woodchuck could chuck wood\"\n",
        "\n",
        "How many tokens will there be initially and what will they be?\n",
        "How many tokens will there be if we run the tokenization routine for the maximum number of iterations (merges)?\n",
        "\n",
        "When you've made your predictions, run the code and see if you are correct."
      ],
      "metadata": {
        "id": "jOW_HJtMdAxd"
      }
    },
    {
      "cell_type": "code",
      "source": [
        "input_text = \"How much wood could a woodchuck chuck if a woodchuck could chuck wood\"\n",
        "vocab = initialize_vocabulary(input_text)\n",
        "print('Vocabulary: {}'.format(vocab))\n",
        "print('Size of vocabulary: {}'.format(len(vocab)))"
      ],
      "metadata": {
        "id": "CiPKQUGXIg9S",
        "outputId": "a284fb1f-b391-423c-f1aa-5e8d01d9f7fb",
        "colab": {
          "base_uri": "https://localhost:8080/"
        }
      },
      "execution_count": 21,
      "outputs": [
        {
          "output_type": "stream",
          "name": "stdout",
          "text": [
            "Vocabulary: defaultdict(<class 'int'>, {'H o w </w>': 1, 'm u c h </w>': 1, 'w o o d </w>': 2, 'c o u l d </w>': 2, 'a </w>': 2, 'w o o d c h u c k </w>': 2, 'c h u c k </w>': 2, 'i f </w>': 1})\n",
            "Size of vocabulary: 8\n"
          ]
        }
      ]
    },
    {
      "cell_type": "code",
      "source": [
        "tokens = get_tokens_and_frequencies(vocab)\n",
        "print('Tokens: {}'.format(tokens))\n",
        "print('Number of tokens: {}'.format(len(tokens)))"
      ],
      "metadata": {
        "id": "B5SFZqJeIwGo",
        "outputId": "87e92bc0-7567-4b7d-c750-98890b74fc22",
        "colab": {
          "base_uri": "https://localhost:8080/"
        }
      },
      "execution_count": 22,
      "outputs": [
        {
          "output_type": "stream",
          "name": "stdout",
          "text": [
            "Tokens: defaultdict(<class 'int'>, {'H': 1, 'o': 11, 'w': 5, '</w>': 13, 'm': 1, 'u': 7, 'c': 11, 'h': 5, 'd': 6, 'l': 2, 'a': 2, 'k': 4, 'i': 1, 'f': 1})\n",
            "Number of tokens: 14\n"
          ]
        }
      ]
    },
    {
      "cell_type": "code",
      "source": [
        "pairs = get_pairs_and_counts(vocab)\n",
        "print('Pairs: {}'.format(pairs))\n",
        "print('Number of distinct pairs: {}'.format(len(pairs)))"
      ],
      "metadata": {
        "id": "OpnpqQ0xI19O",
        "outputId": "1c198089-238e-481b-db2b-9f51bf3e71ad",
        "colab": {
          "base_uri": "https://localhost:8080/"
        }
      },
      "execution_count": 23,
      "outputs": [
        {
          "output_type": "stream",
          "name": "stdout",
          "text": [
            "Pairs: defaultdict(<class 'int'>, {('H', 'o'): 1, ('o', 'w'): 1, ('w', '</w>'): 1, ('m', 'u'): 1, ('u', 'c'): 5, ('c', 'h'): 5, ('h', '</w>'): 1, ('w', 'o'): 4, ('o', 'o'): 4, ('o', 'd'): 4, ('d', '</w>'): 4, ('c', 'o'): 2, ('o', 'u'): 2, ('u', 'l'): 2, ('l', 'd'): 2, ('a', '</w>'): 2, ('d', 'c'): 2, ('h', 'u'): 4, ('c', 'k'): 4, ('k', '</w>'): 4, ('i', 'f'): 1, ('f', '</w>'): 1})\n",
            "Number of distinct pairs: 22\n"
          ]
        }
      ]
    },
    {
      "cell_type": "code",
      "source": [
        "vocab = merge_pair_in_vocabulary(most_frequent_pair, vocab)\n",
        "print('Vocabulary: {}'.format(vocab))\n",
        "print('Size of vocabulary: {}'.format(len(vocab)))"
      ],
      "metadata": {
        "id": "y8iaqknwI66O",
        "outputId": "6fca4eb2-979d-4a77-b72c-d79eb496b931",
        "colab": {
          "base_uri": "https://localhost:8080/"
        }
      },
      "execution_count": 24,
      "outputs": [
        {
          "output_type": "stream",
          "name": "stdout",
          "text": [
            "Vocabulary: {'H o w </w>': 1, 'm u c h </w>': 1, 'w o o d </w>': 2, 'c o u l d </w>': 2, 'a </w>': 2, 'w o o d c h u c k </w>': 2, 'c h u c k </w>': 2, 'i f </w>': 1}\n",
            "Size of vocabulary: 8\n"
          ]
        }
      ]
    },
    {
      "cell_type": "code",
      "source": [
        "tokens = get_tokens_and_frequencies(vocab)\n",
        "print('Tokens: {}'.format(tokens))\n",
        "print('Number of tokens: {}'.format(len(tokens)))"
      ],
      "metadata": {
        "id": "Y-yDKnckI-bV",
        "outputId": "bd53012c-9041-4321-ca61-699a031968a2",
        "colab": {
          "base_uri": "https://localhost:8080/"
        }
      },
      "execution_count": 27,
      "outputs": [
        {
          "output_type": "stream",
          "name": "stdout",
          "text": [
            "Tokens: defaultdict(<class 'int'>, {'H': 1, 'o': 11, 'w': 5, '</w>': 13, 'm': 1, 'u': 7, 'c': 11, 'h': 5, 'd': 6, 'l': 2, 'a': 2, 'k': 4, 'i': 1, 'f': 1})\n",
            "Number of tokens: 14\n"
          ]
        }
      ]
    },
    {
      "cell_type": "code",
      "source": [
        "tokens, vocab = tokenize(input_text, num_merges=22)\n",
        "print('Tokens: {}'.format(tokens))\n",
        "print('Number of tokens: {}'.format(len(tokens)))\n",
        "print('Vocabulary: {}'.format(vocab))\n",
        "print('Size of vocabulary: {}'.format(len(vocab)))"
      ],
      "metadata": {
        "id": "6BA9TiykJEtK",
        "outputId": "ecb7e4a8-bda1-4dbd-aa1f-77ed81491a9b",
        "colab": {
          "base_uri": "https://localhost:8080/"
        }
      },
      "execution_count": 30,
      "outputs": [
        {
          "output_type": "stream",
          "name": "stdout",
          "text": [
            "Tokens: defaultdict(<class 'int'>, {'How</w>': 1, 'much</w>': 1, 'wood</w>': 2, 'could</w>': 2, 'a</w>': 2, 'woodchuck</w>': 2, 'chuck</w>': 2, 'i': 1, 'f': 1, '</w>': 1})\n",
            "Number of tokens: 10\n",
            "Vocabulary: {'How</w>': 1, 'much</w>': 1, 'wood</w>': 2, 'could</w>': 2, 'a</w>': 2, 'woodchuck</w>': 2, 'chuck</w>': 2, 'i f </w>': 1}\n",
            "Size of vocabulary: 8\n"
          ]
        }
      ]
    },
    {
      "cell_type": "code",
      "source": [],
      "metadata": {
        "id": "hA8RoWXzJL6D"
      },
      "execution_count": null,
      "outputs": []
    }
  ]
}