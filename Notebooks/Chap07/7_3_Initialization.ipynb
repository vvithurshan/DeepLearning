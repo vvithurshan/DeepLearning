{
  "nbformat": 4,
  "nbformat_minor": 0,
  "metadata": {
    "colab": {
      "provenance": [],
      "include_colab_link": true
    },
    "kernelspec": {
      "name": "python3",
      "display_name": "Python 3"
    },
    "language_info": {
      "name": "python"
    }
  },
  "cells": [
    {
      "cell_type": "markdown",
      "metadata": {
        "id": "view-in-github",
        "colab_type": "text"
      },
      "source": [
        "<a href=\"https://colab.research.google.com/github/vvithurshan/DeepLearning/blob/main/Notebooks/Chap07/7_3_Initialization.ipynb\" target=\"_parent\"><img src=\"https://colab.research.google.com/assets/colab-badge.svg\" alt=\"Open In Colab\"/></a>"
      ]
    },
    {
      "cell_type": "markdown",
      "source": [
        "# **Notebook 7.3: Initialization**\n",
        "\n",
        "This notebook explores weight initialization in deep neural networks as described in section 7.5 of the book.\n",
        "\n",
        "Work through the cells below, running each cell in turn. In various places you will see the words \"TODO\". Follow the instructions at these places and make predictions about what is going to happen or write code to complete the functions.\n",
        "\n",
        "Contact me at udlbookmail@gmail.com if you find any mistakes or have any suggestions."
      ],
      "metadata": {
        "id": "L6chybAVFJW2"
      }
    },
    {
      "cell_type": "code",
      "execution_count": 1,
      "metadata": {
        "id": "LdIDglk1FFcG"
      },
      "outputs": [],
      "source": [
        "import numpy as np\n",
        "import matplotlib.pyplot as plt"
      ]
    },
    {
      "cell_type": "markdown",
      "source": [
        "First let's define a neural network.  We'll just choose the weights and biases randomly for now"
      ],
      "metadata": {
        "id": "nnUoI0m6GyjC"
      }
    },
    {
      "cell_type": "code",
      "source": [
        "def init_params(K, D, sigma_sq_omega):\n",
        "  # Set seed so we always get the same random numbers\n",
        "  np.random.seed(0)\n",
        "\n",
        "  # Input layer\n",
        "  D_i = 1\n",
        "  # Output layer\n",
        "  D_o = 1\n",
        "\n",
        "  # Make empty lists\n",
        "  all_weights = [None] * (K+1)\n",
        "  all_biases = [None] * (K+1)\n",
        "\n",
        "  # Create input and output layers\n",
        "  all_weights[0] = np.random.normal(size=(D, D_i))*np.sqrt(sigma_sq_omega)\n",
        "  all_weights[-1] = np.random.normal(size=(D_o, D)) * np.sqrt(sigma_sq_omega)\n",
        "  all_biases[0] = np.zeros((D,1))\n",
        "  all_biases[-1]= np.zeros((D_o,1))\n",
        "\n",
        "  # Create intermediate layers\n",
        "  for layer in range(1,K):\n",
        "    all_weights[layer] = np.random.normal(size=(D,D))*np.sqrt(sigma_sq_omega)\n",
        "    all_biases[layer] = np.zeros((D,1))\n",
        "\n",
        "  return all_weights, all_biases"
      ],
      "metadata": {
        "id": "WVM4Tc_jGI0Q"
      },
      "execution_count": 2,
      "outputs": []
    },
    {
      "cell_type": "code",
      "source": [
        "# Define the Rectified Linear Unit (ReLU) function\n",
        "def ReLU(preactivation):\n",
        "  activation = preactivation.clip(0.0)\n",
        "  return activation"
      ],
      "metadata": {
        "id": "jZh-7bPXIDq4"
      },
      "execution_count": 5,
      "outputs": []
    },
    {
      "cell_type": "code",
      "source": [
        "def compute_network_output(net_input, all_weights, all_biases):\n",
        "\n",
        "  # Retrieve number of layers\n",
        "  K = len(all_weights)-1\n",
        "\n",
        "  # We'll store the pre-activations at each layer in a list \"all_f\"\n",
        "  # and the activations in a second list \"all_h\".\n",
        "  all_f = [None] * (K+1)\n",
        "  all_h = [None] * (K+1)\n",
        "\n",
        "  #For convenience, we'll set\n",
        "  # all_h[0] to be the input, and all_f[K] will be the output\n",
        "  all_h[0] = net_input\n",
        "\n",
        "  # Run through the layers, calculating all_f[0...K-1] and all_h[1...K]\n",
        "  for layer in range(K):\n",
        "      # Update preactivations and activations at this layer according to eqn 7.5\n",
        "      all_f[layer] = all_biases[layer] + np.matmul(all_weights[layer], all_h[layer])\n",
        "      all_h[layer+1] = ReLU(all_f[layer])\n",
        "\n",
        "  # Compute the output from the last hidden layer\n",
        "  all_f[K] = all_biases[K] + np.matmul(all_weights[K], all_h[K])\n",
        "\n",
        "  # Retrieve the output\n",
        "  net_output = all_f[K]\n",
        "\n",
        "  return net_output, all_f, all_h"
      ],
      "metadata": {
        "id": "LgquJUJvJPaN"
      },
      "execution_count": 6,
      "outputs": []
    },
    {
      "cell_type": "markdown",
      "source": [
        "Now let's investigate how the size of the outputs vary as we change the initialization variance:\n"
      ],
      "metadata": {
        "id": "bIUrcXnOqChl"
      }
    },
    {
      "cell_type": "code",
      "source": [
        "# Number of layers\n",
        "K = 5\n",
        "# Number of neurons per layer\n",
        "D = 8\n",
        "# Input layer\n",
        "D_i = 1\n",
        "# Output layer\n",
        "D_o = 1\n",
        "# Set variance of initial weights to 1\n",
        "sigma_sq_omega = 1.0\n",
        "# Initialize parameters\n",
        "all_weights, all_biases = init_params(K,D,sigma_sq_omega)\n",
        "\n",
        "n_data = 1000\n",
        "data_in = np.random.normal(size=(1,n_data))\n",
        "net_output, all_f, all_h = compute_network_output(data_in, all_weights, all_biases)\n",
        "\n",
        "for layer in range(1,K+1):\n",
        "  print(\"Layer %d, std of hidden units = %3.3f\"%(layer, np.std(all_h[layer])))"
      ],
      "metadata": {
        "id": "A55z3rKBqO7M",
        "outputId": "b0f862dc-2c9e-4880-d3c0-24fb6d74d274",
        "colab": {
          "base_uri": "https://localhost:8080/"
        }
      },
      "execution_count": 7,
      "outputs": [
        {
          "output_type": "stream",
          "name": "stdout",
          "text": [
            "Layer 1, std of hidden units = 0.811\n",
            "Layer 2, std of hidden units = 1.472\n",
            "Layer 3, std of hidden units = 4.547\n",
            "Layer 4, std of hidden units = 8.896\n",
            "Layer 5, std of hidden units = 10.106\n"
          ]
        }
      ]
    },
    {
      "cell_type": "code",
      "source": [
        "# You can see that the values of the hidden units are increasing on average (the variance is across all hidden units at the layer\n",
        "# and the 1000 training examples\n",
        "\n",
        "# TODO\n",
        "# Change this to 50 layers with 80 hidden units per layer\n",
        "\n",
        "# TODO\n",
        "# Now experiment with sigma_sq_omega to try to stop the variance of the forward computation exploding"
      ],
      "metadata": {
        "id": "VL_SO4tar3DC"
      },
      "execution_count": null,
      "outputs": []
    },
    {
      "cell_type": "code",
      "source": [
        "# Number of layers\n",
        "K = 50\n",
        "# Number of neurons per layer\n",
        "D = 80\n",
        "# Input layer\n",
        "D_i = 1\n",
        "# Output layer\n",
        "D_o = 1\n",
        "# Set variance of initial weights to 1\n",
        "sigma_sq_omega = 1.0\n",
        "# Initialize parameters\n",
        "all_weights, all_biases = init_params(K,D,sigma_sq_omega)\n",
        "\n",
        "n_data = 1000\n",
        "data_in = np.random.normal(size=(1,n_data))\n",
        "net_output, all_f, all_h = compute_network_output(data_in, all_weights, all_biases)\n",
        "\n",
        "for layer in range(1,K+1):\n",
        "  print(\"Layer %d, std of hidden units = %3.3f\"%(layer, np.std(all_h[layer])))"
      ],
      "metadata": {
        "id": "bU3D5Cx9oCBp",
        "outputId": "83dce1cf-73f3-4fde-d344-ba3aed23d588",
        "colab": {
          "base_uri": "https://localhost:8080/"
        }
      },
      "execution_count": 8,
      "outputs": [
        {
          "output_type": "stream",
          "name": "stdout",
          "text": [
            "Layer 1, std of hidden units = 0.622\n",
            "Layer 2, std of hidden units = 3.108\n",
            "Layer 3, std of hidden units = 21.075\n",
            "Layer 4, std of hidden units = 161.638\n",
            "Layer 5, std of hidden units = 1125.582\n",
            "Layer 6, std of hidden units = 6319.072\n",
            "Layer 7, std of hidden units = 37275.665\n",
            "Layer 8, std of hidden units = 243387.814\n",
            "Layer 9, std of hidden units = 1339835.231\n",
            "Layer 10, std of hidden units = 7366234.399\n",
            "Layer 11, std of hidden units = 49006173.785\n",
            "Layer 12, std of hidden units = 272845366.658\n",
            "Layer 13, std of hidden units = 1682043584.115\n",
            "Layer 14, std of hidden units = 10666632256.715\n",
            "Layer 15, std of hidden units = 66098343304.232\n",
            "Layer 16, std of hidden units = 429669007251.536\n",
            "Layer 17, std of hidden units = 2889209957356.916\n",
            "Layer 18, std of hidden units = 19621779417283.500\n",
            "Layer 19, std of hidden units = 121787762396578.969\n",
            "Layer 20, std of hidden units = 999886829483868.875\n",
            "Layer 21, std of hidden units = 5334411928004679.000\n",
            "Layer 22, std of hidden units = 33827620837739412.000\n",
            "Layer 23, std of hidden units = 225444894681278176.000\n",
            "Layer 24, std of hidden units = 1627820610460267776.000\n",
            "Layer 25, std of hidden units = 11267764649765797888.000\n",
            "Layer 26, std of hidden units = 67624804921841573888.000\n",
            "Layer 27, std of hidden units = 364972590784171016192.000\n",
            "Layer 28, std of hidden units = 2240665662851632070656.000\n",
            "Layer 29, std of hidden units = 17591855121671590510592.000\n",
            "Layer 30, std of hidden units = 127571735900692099891200.000\n",
            "Layer 31, std of hidden units = 673191222755367401291776.000\n",
            "Layer 32, std of hidden units = 3013965906952738308096000.000\n",
            "Layer 33, std of hidden units = 18058080219374336341966848.000\n",
            "Layer 34, std of hidden units = 113844343088523883136942080.000\n",
            "Layer 35, std of hidden units = 743768651021983614777688064.000\n",
            "Layer 36, std of hidden units = 4212183983909334019905421312.000\n",
            "Layer 37, std of hidden units = 29165435896872114952769372160.000\n",
            "Layer 38, std of hidden units = 158335947919997755737983942656.000\n",
            "Layer 39, std of hidden units = 997715185910698111272413560832.000\n",
            "Layer 40, std of hidden units = 6426783972194130038049969537024.000\n",
            "Layer 41, std of hidden units = 43768309206637147921539531800576.000\n",
            "Layer 42, std of hidden units = 303487129329508551216341155053568.000\n",
            "Layer 43, std of hidden units = 1776138313453572474864744603320320.000\n",
            "Layer 44, std of hidden units = 11908465022449954960409252809670656.000\n",
            "Layer 45, std of hidden units = 89231570537681377058251182172012544.000\n",
            "Layer 46, std of hidden units = 537142295281509613087075230529093632.000\n",
            "Layer 47, std of hidden units = 3598219068834594188168289796459855872.000\n",
            "Layer 48, std of hidden units = 19195733181303612908140446019993206784.000\n",
            "Layer 49, std of hidden units = 112209168636519545406961012606813339648.000\n",
            "Layer 50, std of hidden units = 753218502856424628936041819469258948608.000\n"
          ]
        }
      ]
    },
    {
      "cell_type": "code",
      "source": [
        "# Number of layers\n",
        "K = 50\n",
        "# Number of neurons per layer\n",
        "D = 80\n",
        "# Input layer\n",
        "D_i = 1\n",
        "# Output layer\n",
        "D_o = 1\n",
        "# Set variance of initial weights to 1\n",
        "sigma_sq_omega = 0.022\n",
        "# Initialize parameters\n",
        "all_weights, all_biases = init_params(K,D,sigma_sq_omega)\n",
        "\n",
        "n_data = 1000\n",
        "data_in = np.random.normal(size=(1,n_data))\n",
        "net_output, all_f, all_h = compute_network_output(data_in, all_weights, all_biases)\n",
        "\n",
        "for layer in range(1,K+1):\n",
        "  print(\"Layer %d, std of hidden units = %3.3f\"%(layer, np.std(all_h[layer])))"
      ],
      "metadata": {
        "id": "a9oi6j0toK3P",
        "outputId": "5bd84346-2eb0-4614-d65c-3ae404665590",
        "colab": {
          "base_uri": "https://localhost:8080/"
        }
      },
      "execution_count": 14,
      "outputs": [
        {
          "output_type": "stream",
          "name": "stdout",
          "text": [
            "Layer 1, std of hidden units = 0.092\n",
            "Layer 2, std of hidden units = 0.068\n",
            "Layer 3, std of hidden units = 0.069\n",
            "Layer 4, std of hidden units = 0.078\n",
            "Layer 5, std of hidden units = 0.081\n",
            "Layer 6, std of hidden units = 0.067\n",
            "Layer 7, std of hidden units = 0.059\n",
            "Layer 8, std of hidden units = 0.057\n",
            "Layer 9, std of hidden units = 0.047\n",
            "Layer 10, std of hidden units = 0.038\n",
            "Layer 11, std of hidden units = 0.037\n",
            "Layer 12, std of hidden units = 0.031\n",
            "Layer 13, std of hidden units = 0.028\n",
            "Layer 14, std of hidden units = 0.027\n",
            "Layer 15, std of hidden units = 0.024\n",
            "Layer 16, std of hidden units = 0.024\n",
            "Layer 17, std of hidden units = 0.024\n",
            "Layer 18, std of hidden units = 0.024\n",
            "Layer 19, std of hidden units = 0.022\n",
            "Layer 20, std of hidden units = 0.027\n",
            "Layer 21, std of hidden units = 0.021\n",
            "Layer 22, std of hidden units = 0.020\n",
            "Layer 23, std of hidden units = 0.020\n",
            "Layer 24, std of hidden units = 0.021\n",
            "Layer 25, std of hidden units = 0.021\n",
            "Layer 26, std of hidden units = 0.019\n",
            "Layer 27, std of hidden units = 0.015\n",
            "Layer 28, std of hidden units = 0.014\n",
            "Layer 29, std of hidden units = 0.016\n",
            "Layer 30, std of hidden units = 0.017\n",
            "Layer 31, std of hidden units = 0.014\n",
            "Layer 32, std of hidden units = 0.009\n",
            "Layer 33, std of hidden units = 0.008\n",
            "Layer 34, std of hidden units = 0.008\n",
            "Layer 35, std of hidden units = 0.007\n",
            "Layer 36, std of hidden units = 0.006\n",
            "Layer 37, std of hidden units = 0.006\n",
            "Layer 38, std of hidden units = 0.005\n",
            "Layer 39, std of hidden units = 0.005\n",
            "Layer 40, std of hidden units = 0.005\n",
            "Layer 41, std of hidden units = 0.005\n",
            "Layer 42, std of hidden units = 0.005\n",
            "Layer 43, std of hidden units = 0.004\n",
            "Layer 44, std of hidden units = 0.004\n",
            "Layer 45, std of hidden units = 0.005\n",
            "Layer 46, std of hidden units = 0.004\n",
            "Layer 47, std of hidden units = 0.004\n",
            "Layer 48, std of hidden units = 0.003\n",
            "Layer 49, std of hidden units = 0.003\n",
            "Layer 50, std of hidden units = 0.003\n"
          ]
        }
      ]
    },
    {
      "cell_type": "markdown",
      "source": [
        "Now let's define a loss function.  We'll just use the least squares loss function. We'll also write a function to compute dloss_doutput\n"
      ],
      "metadata": {
        "id": "SxVTKp3IcoBF"
      }
    },
    {
      "cell_type": "code",
      "source": [
        "def least_squares_loss(net_output, y):\n",
        "  return np.sum((net_output-y) * (net_output-y))\n",
        "\n",
        "def d_loss_d_output(net_output, y):\n",
        "    return 2*(net_output -y);"
      ],
      "metadata": {
        "id": "6XqWSYWJdhQR"
      },
      "execution_count": 15,
      "outputs": []
    },
    {
      "cell_type": "markdown",
      "source": [
        "Here's the code for the backward pass"
      ],
      "metadata": {
        "id": "98WmyqFYWA-0"
      }
    },
    {
      "cell_type": "code",
      "source": [
        "# We'll need the indicator function\n",
        "def indicator_function(x):\n",
        "  x_in = np.array(x)\n",
        "  x_in[x_in>=0] = 1\n",
        "  x_in[x_in<0] = 0\n",
        "  return x_in\n",
        "\n",
        "# Main backward pass routine\n",
        "def backward_pass(all_weights, all_biases, all_f, all_h, y):\n",
        "  # Retrieve number of layers\n",
        "  K = len(all_weights) - 1\n",
        "\n",
        "  # We'll store the derivatives dl_dweights and dl_dbiases in lists as well\n",
        "  all_dl_dweights = [None] * (K+1)\n",
        "  all_dl_dbiases = [None] * (K+1)\n",
        "  # And we'll store the derivatives of the loss with respect to the activation and preactivations in lists\n",
        "  all_dl_df = [None] * (K+1)\n",
        "  all_dl_dh = [None] * (K+1)\n",
        "  # Again for convenience we'll stick with the convention that all_h[0] is the net input and all_f[k] in the net output\n",
        "\n",
        "  # Compute derivatives of net output with respect to loss\n",
        "  all_dl_df[K] = np.array(d_loss_d_output(all_f[K],y))\n",
        "\n",
        "  # Now work backwards through the network\n",
        "  for layer in range(K,-1,-1):\n",
        "    # Calculate the derivatives of biases at layer from all_dl_df[K]. (eq 7.13, line 1)\n",
        "    all_dl_dbiases[layer] = np.array(all_dl_df[layer])\n",
        "    # Calculate the derivatives of weight at layer from all_dl_df[K] and all_h[K] (eq 7.13, line 2)\n",
        "    all_dl_dweights[layer] = np.matmul(all_dl_df[layer], all_h[layer].transpose())\n",
        "\n",
        "    # Calculate the derivatives of activations from weight and derivatives of next preactivations (eq 7.13, line 3 second part)\n",
        "    all_dl_dh[layer] = np.matmul(all_weights[layer].transpose(), all_dl_df[layer])\n",
        "    # Calculate the derivatives of the pre-activation f with respect to activation h (eq 7.13, line 3, first part)\n",
        "    if layer > 0:\n",
        "      all_dl_df[layer-1] = indicator_function(all_f[layer-1]) * all_dl_dh[layer]\n",
        "\n",
        "  return all_dl_dweights, all_dl_dbiases, all_dl_dh, all_dl_df"
      ],
      "metadata": {
        "id": "LJng7WpRPLMz"
      },
      "execution_count": 16,
      "outputs": []
    },
    {
      "cell_type": "markdown",
      "source": [
        "Now let's look at what happens to the magnitude of the gradients on the way back."
      ],
      "metadata": {
        "id": "phFnbthqwhFi"
      }
    },
    {
      "cell_type": "code",
      "source": [
        "# Number of layers\n",
        "K = 5\n",
        "# Number of neurons per layer\n",
        "D = 8\n",
        "# Input layer\n",
        "D_i = 1\n",
        "# Output layer\n",
        "D_o = 1\n",
        "# Set variance of initial weights to 1\n",
        "sigma_sq_omega = 1.0\n",
        "# Initialize parameters\n",
        "all_weights, all_biases = init_params(K,D,sigma_sq_omega)\n",
        "\n",
        "# For simplicity we'll just consider the gradients of the weights and biases between the first and last hidden layer\n",
        "n_data = 100\n",
        "aggregate_dl_df = [None] * (K+1)\n",
        "for layer in range(1,K):\n",
        "  # These 3D arrays will store the gradients for every data point\n",
        "  aggregate_dl_df[layer] = np.zeros((D,n_data))\n",
        "\n",
        "\n",
        "# We'll have to compute the derivatives of the parameters for each data point separately\n",
        "for c_data in range(n_data):\n",
        "  data_in = np.random.normal(size=(1,1))\n",
        "  y = np.zeros((1,1))\n",
        "  net_output, all_f, all_h = compute_network_output(data_in, all_weights, all_biases)\n",
        "  all_dl_dweights, all_dl_dbiases, all_dl_dh, all_dl_df = backward_pass(all_weights, all_biases, all_f, all_h, y)\n",
        "  for layer in range(1,K):\n",
        "    aggregate_dl_df[layer][:,c_data] = np.squeeze(all_dl_df[layer])\n",
        "\n",
        "for layer in range(1,K):\n",
        "  print(\"Layer %d, std of dl_dh = %3.3f\"%(layer, np.std(aggregate_dl_df[layer].ravel())))\n"
      ],
      "metadata": {
        "id": "9A9MHc4sQvbp",
        "outputId": "43a578ed-9f8d-4ea5-bc3e-5dbd5fef1797",
        "colab": {
          "base_uri": "https://localhost:8080/"
        }
      },
      "execution_count": 17,
      "outputs": [
        {
          "output_type": "stream",
          "name": "stdout",
          "text": [
            "Layer 1, std of dl_dh = 446.654\n",
            "Layer 2, std of dl_dh = 340.657\n",
            "Layer 3, std of dl_dh = 109.132\n",
            "Layer 4, std of dl_dh = 56.472\n"
          ]
        }
      ]
    },
    {
      "cell_type": "code",
      "source": [
        "# You can see that the gradients of the hidden units are increasing on average (the standard deviation is across all hidden units at the layer\n",
        "# and the 100 training examples\n",
        "\n",
        "# TODO\n",
        "# Change this to 50 layers with 80 hidden units per layer\n",
        "\n",
        "# TODO\n",
        "# Now experiment with sigma_sq_omega to try to stop the variance of the gradients exploding\n"
      ],
      "metadata": {
        "id": "gtokc0VX0839"
      },
      "execution_count": null,
      "outputs": []
    },
    {
      "cell_type": "code",
      "source": [
        "# Number of layers\n",
        "K = 50\n",
        "# Number of neurons per layer\n",
        "D = 80\n",
        "# Input layer\n",
        "D_i = 1\n",
        "# Output layer\n",
        "D_o = 1\n",
        "# Set variance of initial weights to 1\n",
        "sigma_sq_omega = 1.0\n",
        "# Initialize parameters\n",
        "all_weights, all_biases = init_params(K,D,sigma_sq_omega)\n",
        "\n",
        "# For simplicity we'll just consider the gradients of the weights and biases between the first and last hidden layer\n",
        "n_data = 100\n",
        "aggregate_dl_df = [None] * (K+1)\n",
        "for layer in range(1,K):\n",
        "  # These 3D arrays will store the gradients for every data point\n",
        "  aggregate_dl_df[layer] = np.zeros((D,n_data))\n",
        "# Number of layers\n",
        "K = 50\n",
        "# Number of neurons per layer\n",
        "D = 80\n",
        "# Input layer\n",
        "D_i = 1\n",
        "# Output layer\n",
        "D_o = 1\n",
        "# Set variance of initial weights to 1\n",
        "sigma_sq_omega = 0.026\n",
        "# Initialize parameters\n",
        "all_weights, all_biases = init_params(K,D,sigma_sq_omega)\n",
        "\n",
        "# For simplicity we'll just consider the gradients of the weights and biases between the first and last hidden layer\n",
        "n_data = 100\n",
        "aggregate_dl_df = [None] * (K+1)\n",
        "for layer in range(1,K):\n",
        "  # These 3D arrays will store the gradients for every data point\n",
        "  aggregate_dl_df[layer] = np.zeros((D,n_data))\n",
        "\n",
        "\n",
        "# We'll have to compute the derivatives of the parameters for each data point separately\n",
        "for c_data in range(n_data):\n",
        "  data_in = np.random.normal(size=(1,1))\n",
        "  y = np.zeros((1,1))\n",
        "  net_output, all_f, all_h = compute_network_output(data_in, all_weights, all_biases)\n",
        "  all_dl_dweights, all_dl_dbiases, all_dl_dh, all_dl_df = backward_pass(all_weights, all_biases, all_f, all_h, y)\n",
        "  for layer in range(1,K):\n",
        "    aggregate_dl_df[layer][:,c_data] = np.squeeze(all_dl_df[layer])\n",
        "\n",
        "for layer in range(1,K):\n",
        "  print(\"Layer %d, std of dl_dh = %3.3f\"%(layer, np.std(aggregate_dl_df[layer].ravel())))\n",
        "\n",
        "\n",
        "# We'll have to compute the derivatives of the parameters for each data point separately\n",
        "for c_data in range(n_data):\n",
        "  data_in = np.random.normal(size=(1,1))\n",
        "  y = np.zeros((1,1))\n",
        "  net_output, all_f, all_h = compute_network_output(data_in, all_weights, all_biases)\n",
        "  all_dl_dweights, all_dl_dbiases, all_dl_dh, all_dl_df = backward_pass(all_weights, all_biases, all_f, all_h, y)\n",
        "  for layer in range(1,K):\n",
        "    aggregate_dl_df[layer][:,c_data] = np.squeeze(all_dl_df[layer])\n",
        "\n",
        "for layer in range(1,K):\n",
        "  print(\"Layer %d, std of dl_dh = %3.3f\"%(layer, np.std(aggregate_dl_df[layer].ravel())))\n"
      ],
      "metadata": {
        "id": "02-GTV8KouMb",
        "outputId": "92d23095-7411-4f69-dd10-c563b9cb9661",
        "colab": {
          "base_uri": "https://localhost:8080/"
        }
      },
      "execution_count": 20,
      "outputs": [
        {
          "output_type": "stream",
          "name": "stdout",
          "text": [
            "Layer 1, std of dl_dh = 0.217\n",
            "Layer 2, std of dl_dh = 0.224\n",
            "Layer 3, std of dl_dh = 0.251\n",
            "Layer 4, std of dl_dh = 0.241\n",
            "Layer 5, std of dl_dh = 0.220\n",
            "Layer 6, std of dl_dh = 0.225\n",
            "Layer 7, std of dl_dh = 0.231\n",
            "Layer 8, std of dl_dh = 0.202\n",
            "Layer 9, std of dl_dh = 0.199\n",
            "Layer 10, std of dl_dh = 0.222\n",
            "Layer 11, std of dl_dh = 0.222\n",
            "Layer 12, std of dl_dh = 0.219\n",
            "Layer 13, std of dl_dh = 0.196\n",
            "Layer 14, std of dl_dh = 0.200\n",
            "Layer 15, std of dl_dh = 0.205\n",
            "Layer 16, std of dl_dh = 0.183\n",
            "Layer 17, std of dl_dh = 0.153\n",
            "Layer 18, std of dl_dh = 0.153\n",
            "Layer 19, std of dl_dh = 0.134\n",
            "Layer 20, std of dl_dh = 0.161\n",
            "Layer 21, std of dl_dh = 0.146\n",
            "Layer 22, std of dl_dh = 0.126\n",
            "Layer 23, std of dl_dh = 0.128\n",
            "Layer 24, std of dl_dh = 0.111\n",
            "Layer 25, std of dl_dh = 0.111\n",
            "Layer 26, std of dl_dh = 0.152\n",
            "Layer 27, std of dl_dh = 0.123\n",
            "Layer 28, std of dl_dh = 0.134\n",
            "Layer 29, std of dl_dh = 0.142\n",
            "Layer 30, std of dl_dh = 0.151\n",
            "Layer 31, std of dl_dh = 0.152\n",
            "Layer 32, std of dl_dh = 0.144\n",
            "Layer 33, std of dl_dh = 0.149\n",
            "Layer 34, std of dl_dh = 0.164\n",
            "Layer 35, std of dl_dh = 0.150\n",
            "Layer 36, std of dl_dh = 0.149\n",
            "Layer 37, std of dl_dh = 0.129\n",
            "Layer 38, std of dl_dh = 0.122\n",
            "Layer 39, std of dl_dh = 0.107\n",
            "Layer 40, std of dl_dh = 0.117\n",
            "Layer 41, std of dl_dh = 0.114\n",
            "Layer 42, std of dl_dh = 0.135\n",
            "Layer 43, std of dl_dh = 0.145\n",
            "Layer 44, std of dl_dh = 0.155\n",
            "Layer 45, std of dl_dh = 0.164\n",
            "Layer 46, std of dl_dh = 0.155\n",
            "Layer 47, std of dl_dh = 0.155\n",
            "Layer 48, std of dl_dh = 0.139\n",
            "Layer 49, std of dl_dh = 0.116\n",
            "Layer 1, std of dl_dh = 0.248\n",
            "Layer 2, std of dl_dh = 0.254\n",
            "Layer 3, std of dl_dh = 0.281\n",
            "Layer 4, std of dl_dh = 0.268\n",
            "Layer 5, std of dl_dh = 0.248\n",
            "Layer 6, std of dl_dh = 0.255\n",
            "Layer 7, std of dl_dh = 0.259\n",
            "Layer 8, std of dl_dh = 0.228\n",
            "Layer 9, std of dl_dh = 0.228\n",
            "Layer 10, std of dl_dh = 0.257\n",
            "Layer 11, std of dl_dh = 0.254\n",
            "Layer 12, std of dl_dh = 0.255\n",
            "Layer 13, std of dl_dh = 0.228\n",
            "Layer 14, std of dl_dh = 0.233\n",
            "Layer 15, std of dl_dh = 0.240\n",
            "Layer 16, std of dl_dh = 0.214\n",
            "Layer 17, std of dl_dh = 0.179\n",
            "Layer 18, std of dl_dh = 0.177\n",
            "Layer 19, std of dl_dh = 0.152\n",
            "Layer 20, std of dl_dh = 0.183\n",
            "Layer 21, std of dl_dh = 0.160\n",
            "Layer 22, std of dl_dh = 0.138\n",
            "Layer 23, std of dl_dh = 0.142\n",
            "Layer 24, std of dl_dh = 0.122\n",
            "Layer 25, std of dl_dh = 0.122\n",
            "Layer 26, std of dl_dh = 0.168\n",
            "Layer 27, std of dl_dh = 0.133\n",
            "Layer 28, std of dl_dh = 0.145\n",
            "Layer 29, std of dl_dh = 0.153\n",
            "Layer 30, std of dl_dh = 0.160\n",
            "Layer 31, std of dl_dh = 0.165\n",
            "Layer 32, std of dl_dh = 0.157\n",
            "Layer 33, std of dl_dh = 0.164\n",
            "Layer 34, std of dl_dh = 0.176\n",
            "Layer 35, std of dl_dh = 0.160\n",
            "Layer 36, std of dl_dh = 0.167\n",
            "Layer 37, std of dl_dh = 0.145\n",
            "Layer 38, std of dl_dh = 0.140\n",
            "Layer 39, std of dl_dh = 0.119\n",
            "Layer 40, std of dl_dh = 0.128\n",
            "Layer 41, std of dl_dh = 0.125\n",
            "Layer 42, std of dl_dh = 0.152\n",
            "Layer 43, std of dl_dh = 0.162\n",
            "Layer 44, std of dl_dh = 0.177\n",
            "Layer 45, std of dl_dh = 0.185\n",
            "Layer 46, std of dl_dh = 0.173\n",
            "Layer 47, std of dl_dh = 0.172\n",
            "Layer 48, std of dl_dh = 0.156\n",
            "Layer 49, std of dl_dh = 0.130\n"
          ]
        }
      ]
    },
    {
      "cell_type": "code",
      "source": [],
      "metadata": {
        "id": "0ilCraNaoxiw"
      },
      "execution_count": null,
      "outputs": []
    }
  ]
}